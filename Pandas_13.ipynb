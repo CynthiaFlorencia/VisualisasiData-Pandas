{
 "cells": [
  {
   "cell_type": "markdown",
   "id": "29df4460-d602-4422-ad54-072d86b022f6",
   "metadata": {},
   "source": [
    "# **#49 Seleksi kolom dengan f-string**"
   ]
  },
  {
   "cell_type": "markdown",
   "id": "e88a13ab-27d5-4dd6-9d14-1c501d769bf3",
   "metadata": {},
   "source": [
    "**Import Modules**"
   ]
  },
  {
   "cell_type": "code",
   "execution_count": 3,
   "id": "f7bdb44e-02a6-47ea-900f-69baa62df099",
   "metadata": {},
   "outputs": [
    {
     "name": "stdout",
     "output_type": "stream",
     "text": [
      "2.2.2\n"
     ]
    }
   ],
   "source": [
    "import pandas as pd\n",
    "\n",
    "print(pd.__version__)"
   ]
  },
  {
   "cell_type": "markdown",
   "id": "4d25bcbe-e03c-48d2-8108-e7c4441fe837",
   "metadata": {},
   "source": [
    "**Persiapan Data Frame**"
   ]
  },
  {
   "cell_type": "code",
   "execution_count": null,
   "id": "71245e35-078e-4206-833d-4155938162b8",
   "metadata": {},
   "outputs": [],
   "source": [
    "df = pd.read_csv('./data/Iris.csv')\n",
    "df.head()"
   ]
  },
  {
   "cell_type": "markdown",
   "id": "29f37e77-2217-4b47-aeaa-ae1545a6dfe9",
   "metadata": {},
   "source": [
    "**Seleksi kolom dengan f-string**"
   ]
  },
  {
   "cell_type": "markdown",
   "id": "56e8c495-413e-4b6c-acad-9577404ebb80",
   "metadata": {},
   "source": [
    "- Pada dasarnya untuk menyeleksi suatu kolom kita bisa menggunakan fungsi df[]\n",
    "- Fungsi toframe() digunakan untuk membuat tampilan kolom lebih rapih\n",
    "- Fungsi head() digunakan untuk menampilkan 5 data pertama\n",
    "- Fungsi df[] bisa dimodifikasi sehingga menggunakan fungsi f-string seperti contoh ke-2"
   ]
  },
  {
   "cell_type": "code",
   "execution_count": null,
   "id": "862c050f-5120-4256-9577-084a771224fd",
   "metadata": {},
   "outputs": [],
   "source": [
    "df['SepalWidthCm'].to_frame().head()"
   ]
  },
  {
   "cell_type": "code",
   "execution_count": null,
   "id": "b4314e68-cc54-4217-a662-f253fadc6f82",
   "metadata": {},
   "outputs": [],
   "source": [
    "part = 'Sepal'\n",
    "\n",
    "df[f'{part}WidthCm'].to_frame().head()"
   ]
  },
  {
   "cell_type": "code",
   "execution_count": null,
   "id": "b1885607-12ff-4074-98f9-05e53bb55e91",
   "metadata": {},
   "outputs": [],
   "source": [
    "df[['PetalWidthCm', 'PetalLengthCm']].head()"
   ]
  },
  {
   "cell_type": "code",
   "execution_count": null,
   "id": "b55f69fb-c1f6-4b85-bbd7-c78f858994a4",
   "metadata": {},
   "outputs": [],
   "source": [
    "part = 'Petal'\n",
    "\n",
    "df[[f'{part}WidthCm', f'{part}LengthCm']].head()"
   ]
  },
  {
   "cell_type": "markdown",
   "id": "0f540491-2712-4517-8d49-d17aa4b8d6ed",
   "metadata": {},
   "source": [
    "# **#50 Membuat kolom baru dengan for loop dan f-string**"
   ]
  },
  {
   "cell_type": "markdown",
   "id": "1cc355d2-faf7-43f1-9371-61f9b203352f",
   "metadata": {},
   "source": [
    "**Import Modules**"
   ]
  },
  {
   "cell_type": "code",
   "execution_count": 12,
   "id": "cc7ecf0f-40b5-48ba-b4f2-b3cc03010afe",
   "metadata": {},
   "outputs": [
    {
     "name": "stdout",
     "output_type": "stream",
     "text": [
      "2.2.2\n"
     ]
    }
   ],
   "source": [
    "import pandas as pd\n",
    "\n",
    "print(pd.__version__)"
   ]
  },
  {
   "cell_type": "markdown",
   "id": "ddaaca33-5b31-4755-aa69-6af9bcd1e7ae",
   "metadata": {},
   "source": [
    "**Persiapan Data Frame**"
   ]
  },
  {
   "cell_type": "code",
   "execution_count": 15,
   "id": "ab28229f-5317-469c-9719-9e1982613f2d",
   "metadata": {},
   "outputs": [
    {
     "data": {
      "text/html": [
       "<div>\n",
       "<style scoped>\n",
       "    .dataframe tbody tr th:only-of-type {\n",
       "        vertical-align: middle;\n",
       "    }\n",
       "\n",
       "    .dataframe tbody tr th {\n",
       "        vertical-align: top;\n",
       "    }\n",
       "\n",
       "    .dataframe thead th {\n",
       "        text-align: right;\n",
       "    }\n",
       "</style>\n",
       "<table border=\"1\" class=\"dataframe\">\n",
       "  <thead>\n",
       "    <tr style=\"text-align: right;\">\n",
       "      <th></th>\n",
       "      <th>penjual</th>\n",
       "      <th>barang</th>\n",
       "    </tr>\n",
       "  </thead>\n",
       "  <tbody>\n",
       "    <tr>\n",
       "      <th>0</th>\n",
       "      <td>bejo</td>\n",
       "      <td>monitor</td>\n",
       "    </tr>\n",
       "    <tr>\n",
       "      <th>1</th>\n",
       "      <td>tejo</td>\n",
       "      <td>monitor</td>\n",
       "    </tr>\n",
       "    <tr>\n",
       "      <th>2</th>\n",
       "      <td>wati</td>\n",
       "      <td>keyboard</td>\n",
       "    </tr>\n",
       "    <tr>\n",
       "      <th>3</th>\n",
       "      <td>bejo</td>\n",
       "      <td>mouse</td>\n",
       "    </tr>\n",
       "    <tr>\n",
       "      <th>4</th>\n",
       "      <td>cecep</td>\n",
       "      <td>keyboard</td>\n",
       "    </tr>\n",
       "    <tr>\n",
       "      <th>5</th>\n",
       "      <td>tejo</td>\n",
       "      <td>monitor</td>\n",
       "    </tr>\n",
       "    <tr>\n",
       "      <th>6</th>\n",
       "      <td>wati</td>\n",
       "      <td>laptop</td>\n",
       "    </tr>\n",
       "    <tr>\n",
       "      <th>7</th>\n",
       "      <td>bejo</td>\n",
       "      <td>monitor</td>\n",
       "    </tr>\n",
       "  </tbody>\n",
       "</table>\n",
       "</div>"
      ],
      "text/plain": [
       "  penjual    barang\n",
       "0    bejo   monitor\n",
       "1    tejo   monitor\n",
       "2    wati  keyboard\n",
       "3    bejo     mouse\n",
       "4   cecep  keyboard\n",
       "5    tejo   monitor\n",
       "6    wati    laptop\n",
       "7    bejo   monitor"
      ]
     },
     "execution_count": 15,
     "metadata": {},
     "output_type": "execute_result"
    }
   ],
   "source": [
    "d = {'penjual':['bejo', 'tejo', 'wati', 'bejo', 'cecep', 'tejo', 'wati', 'bejo'], \n",
    "     'barang':['monitor', 'monitor', 'keyboard', 'mouse', 'keyboard', 'monitor', 'laptop', 'monitor']}\n",
    "\n",
    "df = pd.DataFrame(d)\n",
    "df"
   ]
  },
  {
   "cell_type": "markdown",
   "id": "8ef6bad6-fe45-46a2-b55e-0a2d68eb737d",
   "metadata": {},
   "source": [
    "**Membuat kolom baru dengan for loop dan f-string**"
   ]
  },
  {
   "cell_type": "markdown",
   "id": "fa99c723-4391-4f50-8a26-759b2e196717",
   "metadata": {},
   "source": [
    "- Kita bisa menggunakan looping dan f-string untuk membuat beberapa kolom baru sekaligus\n",
    "- Contohnya dapat kita dapat membuat 2 kolom sekaligus seperti terlihat dibawah ini"
   ]
  },
  {
   "cell_type": "code",
   "execution_count": 21,
   "id": "4207d156-55b8-409a-ac6e-db19fa92fe00",
   "metadata": {},
   "outputs": [
    {
     "data": {
      "text/html": [
       "<div>\n",
       "<style scoped>\n",
       "    .dataframe tbody tr th:only-of-type {\n",
       "        vertical-align: middle;\n",
       "    }\n",
       "\n",
       "    .dataframe tbody tr th {\n",
       "        vertical-align: top;\n",
       "    }\n",
       "\n",
       "    .dataframe thead th {\n",
       "        text-align: right;\n",
       "    }\n",
       "</style>\n",
       "<table border=\"1\" class=\"dataframe\">\n",
       "  <thead>\n",
       "    <tr style=\"text-align: right;\">\n",
       "      <th></th>\n",
       "      <th>penjual</th>\n",
       "      <th>barang</th>\n",
       "      <th>count_tiap_penjual</th>\n",
       "      <th>count_tiap_barang</th>\n",
       "    </tr>\n",
       "  </thead>\n",
       "  <tbody>\n",
       "    <tr>\n",
       "      <th>0</th>\n",
       "      <td>bejo</td>\n",
       "      <td>monitor</td>\n",
       "      <td>1</td>\n",
       "      <td>1</td>\n",
       "    </tr>\n",
       "    <tr>\n",
       "      <th>1</th>\n",
       "      <td>tejo</td>\n",
       "      <td>monitor</td>\n",
       "      <td>1</td>\n",
       "      <td>2</td>\n",
       "    </tr>\n",
       "    <tr>\n",
       "      <th>2</th>\n",
       "      <td>wati</td>\n",
       "      <td>keyboard</td>\n",
       "      <td>1</td>\n",
       "      <td>1</td>\n",
       "    </tr>\n",
       "    <tr>\n",
       "      <th>3</th>\n",
       "      <td>bejo</td>\n",
       "      <td>mouse</td>\n",
       "      <td>2</td>\n",
       "      <td>1</td>\n",
       "    </tr>\n",
       "    <tr>\n",
       "      <th>4</th>\n",
       "      <td>cecep</td>\n",
       "      <td>keyboard</td>\n",
       "      <td>1</td>\n",
       "      <td>2</td>\n",
       "    </tr>\n",
       "    <tr>\n",
       "      <th>5</th>\n",
       "      <td>tejo</td>\n",
       "      <td>monitor</td>\n",
       "      <td>2</td>\n",
       "      <td>3</td>\n",
       "    </tr>\n",
       "    <tr>\n",
       "      <th>6</th>\n",
       "      <td>wati</td>\n",
       "      <td>laptop</td>\n",
       "      <td>2</td>\n",
       "      <td>1</td>\n",
       "    </tr>\n",
       "    <tr>\n",
       "      <th>7</th>\n",
       "      <td>bejo</td>\n",
       "      <td>monitor</td>\n",
       "      <td>3</td>\n",
       "      <td>4</td>\n",
       "    </tr>\n",
       "  </tbody>\n",
       "</table>\n",
       "</div>"
      ],
      "text/plain": [
       "  penjual    barang  count_tiap_penjual  count_tiap_barang\n",
       "0    bejo   monitor                   1                  1\n",
       "1    tejo   monitor                   1                  2\n",
       "2    wati  keyboard                   1                  1\n",
       "3    bejo     mouse                   2                  1\n",
       "4   cecep  keyboard                   1                  2\n",
       "5    tejo   monitor                   2                  3\n",
       "6    wati    laptop                   2                  1\n",
       "7    bejo   monitor                   3                  4"
      ]
     },
     "execution_count": 21,
     "metadata": {},
     "output_type": "execute_result"
    }
   ],
   "source": [
    "cols = ['penjual', 'barang']\n",
    "\n",
    "for col in cols:\n",
    "    df[f'count_tiap_{col}'] =  df.groupby(col).cumcount() + 1\n",
    "    \n",
    "df"
   ]
  },
  {
   "cell_type": "markdown",
   "id": "90fa7b2f-2d59-410d-a468-418fec3ef32e",
   "metadata": {},
   "source": [
    "# **#51 Seleksi baris dengan between()**"
   ]
  },
  {
   "cell_type": "markdown",
   "id": "53e9095a-8360-40f7-8446-a83b32d185d7",
   "metadata": {},
   "source": [
    "**Import Modules**"
   ]
  },
  {
   "cell_type": "code",
   "execution_count": 25,
   "id": "34d728f2-8c7a-4e9b-b0ea-5cb068ef2423",
   "metadata": {},
   "outputs": [
    {
     "name": "stdout",
     "output_type": "stream",
     "text": [
      "2.2.2\n",
      "1.26.4\n"
     ]
    }
   ],
   "source": [
    "import pandas as pd\n",
    "import numpy as np\n",
    "\n",
    "print(pd.__version__)\n",
    "print(np.__version__)"
   ]
  },
  {
   "cell_type": "markdown",
   "id": "0749e81b-df46-4cc0-a772-857189a7fc80",
   "metadata": {},
   "source": [
    "**Persiapan Data Frame**"
   ]
  },
  {
   "cell_type": "code",
   "execution_count": 28,
   "id": "e2932f54-a5ea-43e0-a599-29429cffe333",
   "metadata": {},
   "outputs": [
    {
     "data": {
      "text/html": [
       "<div>\n",
       "<style scoped>\n",
       "    .dataframe tbody tr th:only-of-type {\n",
       "        vertical-align: middle;\n",
       "    }\n",
       "\n",
       "    .dataframe tbody tr th {\n",
       "        vertical-align: top;\n",
       "    }\n",
       "\n",
       "    .dataframe thead th {\n",
       "        text-align: right;\n",
       "    }\n",
       "</style>\n",
       "<table border=\"1\" class=\"dataframe\">\n",
       "  <thead>\n",
       "    <tr style=\"text-align: right;\">\n",
       "      <th></th>\n",
       "      <th>A</th>\n",
       "      <th>B</th>\n",
       "      <th>C</th>\n",
       "      <th>D</th>\n",
       "      <th>E</th>\n",
       "    </tr>\n",
       "  </thead>\n",
       "  <tbody>\n",
       "    <tr>\n",
       "      <th>0</th>\n",
       "      <td>6</td>\n",
       "      <td>1</td>\n",
       "      <td>4</td>\n",
       "      <td>8</td>\n",
       "      <td>6</td>\n",
       "    </tr>\n",
       "    <tr>\n",
       "      <th>1</th>\n",
       "      <td>2</td>\n",
       "      <td>9</td>\n",
       "      <td>1</td>\n",
       "      <td>6</td>\n",
       "      <td>9</td>\n",
       "    </tr>\n",
       "    <tr>\n",
       "      <th>2</th>\n",
       "      <td>1</td>\n",
       "      <td>3</td>\n",
       "      <td>5</td>\n",
       "      <td>6</td>\n",
       "      <td>2</td>\n",
       "    </tr>\n",
       "    <tr>\n",
       "      <th>3</th>\n",
       "      <td>1</td>\n",
       "      <td>3</td>\n",
       "      <td>3</td>\n",
       "      <td>2</td>\n",
       "      <td>6</td>\n",
       "    </tr>\n",
       "    <tr>\n",
       "      <th>4</th>\n",
       "      <td>4</td>\n",
       "      <td>9</td>\n",
       "      <td>1</td>\n",
       "      <td>3</td>\n",
       "      <td>7</td>\n",
       "    </tr>\n",
       "    <tr>\n",
       "      <th>5</th>\n",
       "      <td>3</td>\n",
       "      <td>5</td>\n",
       "      <td>1</td>\n",
       "      <td>3</td>\n",
       "      <td>8</td>\n",
       "    </tr>\n",
       "    <tr>\n",
       "      <th>6</th>\n",
       "      <td>4</td>\n",
       "      <td>9</td>\n",
       "      <td>1</td>\n",
       "      <td>1</td>\n",
       "      <td>5</td>\n",
       "    </tr>\n",
       "    <tr>\n",
       "      <th>7</th>\n",
       "      <td>5</td>\n",
       "      <td>5</td>\n",
       "      <td>2</td>\n",
       "      <td>7</td>\n",
       "      <td>7</td>\n",
       "    </tr>\n",
       "    <tr>\n",
       "      <th>8</th>\n",
       "      <td>8</td>\n",
       "      <td>4</td>\n",
       "      <td>8</td>\n",
       "      <td>2</td>\n",
       "      <td>1</td>\n",
       "    </tr>\n",
       "    <tr>\n",
       "      <th>9</th>\n",
       "      <td>8</td>\n",
       "      <td>5</td>\n",
       "      <td>7</td>\n",
       "      <td>3</td>\n",
       "      <td>3</td>\n",
       "    </tr>\n",
       "  </tbody>\n",
       "</table>\n",
       "</div>"
      ],
      "text/plain": [
       "   A  B  C  D  E\n",
       "0  6  1  4  8  6\n",
       "1  2  9  1  6  9\n",
       "2  1  3  5  6  2\n",
       "3  1  3  3  2  6\n",
       "4  4  9  1  3  7\n",
       "5  3  5  1  3  8\n",
       "6  4  9  1  1  5\n",
       "7  5  5  2  7  7\n",
       "8  8  4  8  2  1\n",
       "9  8  5  7  3  3"
      ]
     },
     "execution_count": 28,
     "metadata": {},
     "output_type": "execute_result"
    }
   ],
   "source": [
    "n_rows = 10\n",
    "n_cols = 5\n",
    "cols = tuple('ABCDE')\n",
    "\n",
    "df = pd.DataFrame(np.random.randint(1, 10, size=(n_rows, n_cols)), \n",
    "                  columns=cols)\n",
    "df"
   ]
  },
  {
   "cell_type": "markdown",
   "id": "c8227ce8-a743-457d-80a3-a77ff00eedbc",
   "metadata": {},
   "source": [
    "**Seleksi baris dengan between()**"
   ]
  },
  {
   "cell_type": "markdown",
   "id": "4cee066c-626a-4202-9c8a-3de58c4c4ed1",
   "metadata": {},
   "source": [
    "- Parameter inclusive memiliki nilai default tru\n",
    "- Parameter inclusive berguna untuk mengikutsertakan nilai yang tertera dalam penyeleksian"
   ]
  },
  {
   "cell_type": "code",
   "execution_count": 32,
   "id": "200cb5d8-27bb-4cb7-8ece-cab400750912",
   "metadata": {},
   "outputs": [
    {
     "data": {
      "text/html": [
       "<div>\n",
       "<style scoped>\n",
       "    .dataframe tbody tr th:only-of-type {\n",
       "        vertical-align: middle;\n",
       "    }\n",
       "\n",
       "    .dataframe tbody tr th {\n",
       "        vertical-align: top;\n",
       "    }\n",
       "\n",
       "    .dataframe thead th {\n",
       "        text-align: right;\n",
       "    }\n",
       "</style>\n",
       "<table border=\"1\" class=\"dataframe\">\n",
       "  <thead>\n",
       "    <tr style=\"text-align: right;\">\n",
       "      <th></th>\n",
       "      <th>A</th>\n",
       "      <th>B</th>\n",
       "      <th>C</th>\n",
       "      <th>D</th>\n",
       "      <th>E</th>\n",
       "    </tr>\n",
       "  </thead>\n",
       "  <tbody>\n",
       "    <tr>\n",
       "      <th>1</th>\n",
       "      <td>2</td>\n",
       "      <td>9</td>\n",
       "      <td>1</td>\n",
       "      <td>6</td>\n",
       "      <td>9</td>\n",
       "    </tr>\n",
       "    <tr>\n",
       "      <th>4</th>\n",
       "      <td>4</td>\n",
       "      <td>9</td>\n",
       "      <td>1</td>\n",
       "      <td>3</td>\n",
       "      <td>7</td>\n",
       "    </tr>\n",
       "    <tr>\n",
       "      <th>5</th>\n",
       "      <td>3</td>\n",
       "      <td>5</td>\n",
       "      <td>1</td>\n",
       "      <td>3</td>\n",
       "      <td>8</td>\n",
       "    </tr>\n",
       "    <tr>\n",
       "      <th>6</th>\n",
       "      <td>4</td>\n",
       "      <td>9</td>\n",
       "      <td>1</td>\n",
       "      <td>1</td>\n",
       "      <td>5</td>\n",
       "    </tr>\n",
       "    <tr>\n",
       "      <th>7</th>\n",
       "      <td>5</td>\n",
       "      <td>5</td>\n",
       "      <td>2</td>\n",
       "      <td>7</td>\n",
       "      <td>7</td>\n",
       "    </tr>\n",
       "  </tbody>\n",
       "</table>\n",
       "</div>"
      ],
      "text/plain": [
       "   A  B  C  D  E\n",
       "1  2  9  1  6  9\n",
       "4  4  9  1  3  7\n",
       "5  3  5  1  3  8\n",
       "6  4  9  1  1  5\n",
       "7  5  5  2  7  7"
      ]
     },
     "execution_count": 32,
     "metadata": {},
     "output_type": "execute_result"
    }
   ],
   "source": [
    "df[df['A'].between(2, 5)]"
   ]
  },
  {
   "cell_type": "code",
   "execution_count": null,
   "id": "45bd0240-bd99-4903-854a-f2eaf6f54a6c",
   "metadata": {},
   "outputs": [],
   "source": [
    "#Depricated \n",
    "df[df['A'].between(2, 5, inclusive=False)]"
   ]
  },
  {
   "cell_type": "code",
   "execution_count": 36,
   "id": "61ac322a-1e9b-4f3c-94aa-bfea61f22d7b",
   "metadata": {},
   "outputs": [
    {
     "data": {
      "text/html": [
       "<div>\n",
       "<style scoped>\n",
       "    .dataframe tbody tr th:only-of-type {\n",
       "        vertical-align: middle;\n",
       "    }\n",
       "\n",
       "    .dataframe tbody tr th {\n",
       "        vertical-align: top;\n",
       "    }\n",
       "\n",
       "    .dataframe thead th {\n",
       "        text-align: right;\n",
       "    }\n",
       "</style>\n",
       "<table border=\"1\" class=\"dataframe\">\n",
       "  <thead>\n",
       "    <tr style=\"text-align: right;\">\n",
       "      <th></th>\n",
       "      <th>A</th>\n",
       "      <th>B</th>\n",
       "      <th>C</th>\n",
       "      <th>D</th>\n",
       "      <th>E</th>\n",
       "    </tr>\n",
       "  </thead>\n",
       "  <tbody>\n",
       "    <tr>\n",
       "      <th>1</th>\n",
       "      <td>2</td>\n",
       "      <td>9</td>\n",
       "      <td>1</td>\n",
       "      <td>6</td>\n",
       "      <td>9</td>\n",
       "    </tr>\n",
       "    <tr>\n",
       "      <th>4</th>\n",
       "      <td>4</td>\n",
       "      <td>9</td>\n",
       "      <td>1</td>\n",
       "      <td>3</td>\n",
       "      <td>7</td>\n",
       "    </tr>\n",
       "    <tr>\n",
       "      <th>5</th>\n",
       "      <td>3</td>\n",
       "      <td>5</td>\n",
       "      <td>1</td>\n",
       "      <td>3</td>\n",
       "      <td>8</td>\n",
       "    </tr>\n",
       "    <tr>\n",
       "      <th>6</th>\n",
       "      <td>4</td>\n",
       "      <td>9</td>\n",
       "      <td>1</td>\n",
       "      <td>1</td>\n",
       "      <td>5</td>\n",
       "    </tr>\n",
       "  </tbody>\n",
       "</table>\n",
       "</div>"
      ],
      "text/plain": [
       "   A  B  C  D  E\n",
       "1  2  9  1  6  9\n",
       "4  4  9  1  3  7\n",
       "5  3  5  1  3  8\n",
       "6  4  9  1  1  5"
      ]
     },
     "execution_count": 36,
     "metadata": {},
     "output_type": "execute_result"
    }
   ],
   "source": [
    "df[df['A'].between(2, 5, inclusive='left')]"
   ]
  },
  {
   "cell_type": "code",
   "execution_count": 38,
   "id": "c58aa2b6-f1cd-403c-a159-b34513904a3f",
   "metadata": {},
   "outputs": [
    {
     "data": {
      "text/html": [
       "<div>\n",
       "<style scoped>\n",
       "    .dataframe tbody tr th:only-of-type {\n",
       "        vertical-align: middle;\n",
       "    }\n",
       "\n",
       "    .dataframe tbody tr th {\n",
       "        vertical-align: top;\n",
       "    }\n",
       "\n",
       "    .dataframe thead th {\n",
       "        text-align: right;\n",
       "    }\n",
       "</style>\n",
       "<table border=\"1\" class=\"dataframe\">\n",
       "  <thead>\n",
       "    <tr style=\"text-align: right;\">\n",
       "      <th></th>\n",
       "      <th>A</th>\n",
       "      <th>B</th>\n",
       "      <th>C</th>\n",
       "      <th>D</th>\n",
       "      <th>E</th>\n",
       "    </tr>\n",
       "  </thead>\n",
       "  <tbody>\n",
       "    <tr>\n",
       "      <th>4</th>\n",
       "      <td>4</td>\n",
       "      <td>9</td>\n",
       "      <td>1</td>\n",
       "      <td>3</td>\n",
       "      <td>7</td>\n",
       "    </tr>\n",
       "    <tr>\n",
       "      <th>5</th>\n",
       "      <td>3</td>\n",
       "      <td>5</td>\n",
       "      <td>1</td>\n",
       "      <td>3</td>\n",
       "      <td>8</td>\n",
       "    </tr>\n",
       "    <tr>\n",
       "      <th>6</th>\n",
       "      <td>4</td>\n",
       "      <td>9</td>\n",
       "      <td>1</td>\n",
       "      <td>1</td>\n",
       "      <td>5</td>\n",
       "    </tr>\n",
       "    <tr>\n",
       "      <th>7</th>\n",
       "      <td>5</td>\n",
       "      <td>5</td>\n",
       "      <td>2</td>\n",
       "      <td>7</td>\n",
       "      <td>7</td>\n",
       "    </tr>\n",
       "  </tbody>\n",
       "</table>\n",
       "</div>"
      ],
      "text/plain": [
       "   A  B  C  D  E\n",
       "4  4  9  1  3  7\n",
       "5  3  5  1  3  8\n",
       "6  4  9  1  1  5\n",
       "7  5  5  2  7  7"
      ]
     },
     "execution_count": 38,
     "metadata": {},
     "output_type": "execute_result"
    }
   ],
   "source": [
    "df[df['A'].between(2, 5, inclusive='right')]"
   ]
  },
  {
   "cell_type": "code",
   "execution_count": 40,
   "id": "30d7e80b-90f9-4a3e-a61d-76813837ca68",
   "metadata": {},
   "outputs": [
    {
     "data": {
      "text/html": [
       "<div>\n",
       "<style scoped>\n",
       "    .dataframe tbody tr th:only-of-type {\n",
       "        vertical-align: middle;\n",
       "    }\n",
       "\n",
       "    .dataframe tbody tr th {\n",
       "        vertical-align: top;\n",
       "    }\n",
       "\n",
       "    .dataframe thead th {\n",
       "        text-align: right;\n",
       "    }\n",
       "</style>\n",
       "<table border=\"1\" class=\"dataframe\">\n",
       "  <thead>\n",
       "    <tr style=\"text-align: right;\">\n",
       "      <th></th>\n",
       "      <th>A</th>\n",
       "      <th>B</th>\n",
       "      <th>C</th>\n",
       "      <th>D</th>\n",
       "      <th>E</th>\n",
       "    </tr>\n",
       "  </thead>\n",
       "  <tbody>\n",
       "    <tr>\n",
       "      <th>1</th>\n",
       "      <td>2</td>\n",
       "      <td>9</td>\n",
       "      <td>1</td>\n",
       "      <td>6</td>\n",
       "      <td>9</td>\n",
       "    </tr>\n",
       "    <tr>\n",
       "      <th>4</th>\n",
       "      <td>4</td>\n",
       "      <td>9</td>\n",
       "      <td>1</td>\n",
       "      <td>3</td>\n",
       "      <td>7</td>\n",
       "    </tr>\n",
       "    <tr>\n",
       "      <th>5</th>\n",
       "      <td>3</td>\n",
       "      <td>5</td>\n",
       "      <td>1</td>\n",
       "      <td>3</td>\n",
       "      <td>8</td>\n",
       "    </tr>\n",
       "    <tr>\n",
       "      <th>6</th>\n",
       "      <td>4</td>\n",
       "      <td>9</td>\n",
       "      <td>1</td>\n",
       "      <td>1</td>\n",
       "      <td>5</td>\n",
       "    </tr>\n",
       "    <tr>\n",
       "      <th>7</th>\n",
       "      <td>5</td>\n",
       "      <td>5</td>\n",
       "      <td>2</td>\n",
       "      <td>7</td>\n",
       "      <td>7</td>\n",
       "    </tr>\n",
       "  </tbody>\n",
       "</table>\n",
       "</div>"
      ],
      "text/plain": [
       "   A  B  C  D  E\n",
       "1  2  9  1  6  9\n",
       "4  4  9  1  3  7\n",
       "5  3  5  1  3  8\n",
       "6  4  9  1  1  5\n",
       "7  5  5  2  7  7"
      ]
     },
     "execution_count": 40,
     "metadata": {},
     "output_type": "execute_result"
    }
   ],
   "source": [
    "df[df['A'].between(2, 5, inclusive='both')]"
   ]
  },
  {
   "cell_type": "code",
   "execution_count": 42,
   "id": "3ad52af2-eb1b-47b1-a1e9-05b760bf7221",
   "metadata": {},
   "outputs": [
    {
     "data": {
      "text/plain": [
       "[0    False\n",
       " 1    False\n",
       " 2    False\n",
       " 3    False\n",
       " 4     True\n",
       " 5     True\n",
       " 6     True\n",
       " 7    False\n",
       " 8    False\n",
       " 9    False\n",
       " Name: A, dtype: bool]"
      ]
     },
     "execution_count": 42,
     "metadata": {},
     "output_type": "execute_result"
    }
   ],
   "source": [
    "[df['A'].between(2, 5, inclusive='neither')]"
   ]
  },
  {
   "cell_type": "markdown",
   "id": "0f846855-292c-4adb-bafb-8b5e8265881a",
   "metadata": {},
   "source": [
    "# **#52 Transformasi kolom menjadi baris pada Data Frame**"
   ]
  },
  {
   "cell_type": "markdown",
   "id": "8060f4ac-7ea0-442e-9216-7e5426e21633",
   "metadata": {},
   "source": [
    "**Import Modules**"
   ]
  },
  {
   "cell_type": "code",
   "execution_count": 46,
   "id": "3408316a-9ee2-4f83-8f8e-384b47494536",
   "metadata": {},
   "outputs": [
    {
     "name": "stdout",
     "output_type": "stream",
     "text": [
      "2.2.2\n"
     ]
    }
   ],
   "source": [
    "import pandas as pd\n",
    "\n",
    "print(pd.__version__)"
   ]
  },
  {
   "cell_type": "markdown",
   "id": "749e4e5e-e1d3-4818-894c-47048f25035b",
   "metadata": {},
   "source": [
    "**Persiapan Data Frame**"
   ]
  },
  {
   "cell_type": "code",
   "execution_count": 49,
   "id": "2a237740-b51b-40f5-8fb2-a3905811ce4d",
   "metadata": {},
   "outputs": [
    {
     "data": {
      "text/html": [
       "<div>\n",
       "<style scoped>\n",
       "    .dataframe tbody tr th:only-of-type {\n",
       "        vertical-align: middle;\n",
       "    }\n",
       "\n",
       "    .dataframe tbody tr th {\n",
       "        vertical-align: top;\n",
       "    }\n",
       "\n",
       "    .dataframe thead th {\n",
       "        text-align: right;\n",
       "    }\n",
       "</style>\n",
       "<table border=\"1\" class=\"dataframe\">\n",
       "  <thead>\n",
       "    <tr style=\"text-align: right;\">\n",
       "      <th></th>\n",
       "      <th>kode_area</th>\n",
       "      <th>pabrik</th>\n",
       "      <th>gudang</th>\n",
       "      <th>toko</th>\n",
       "    </tr>\n",
       "  </thead>\n",
       "  <tbody>\n",
       "    <tr>\n",
       "      <th>0</th>\n",
       "      <td>123</td>\n",
       "      <td>4</td>\n",
       "      <td>2</td>\n",
       "      <td>64</td>\n",
       "    </tr>\n",
       "    <tr>\n",
       "      <th>1</th>\n",
       "      <td>456</td>\n",
       "      <td>2</td>\n",
       "      <td>4</td>\n",
       "      <td>32</td>\n",
       "    </tr>\n",
       "    <tr>\n",
       "      <th>2</th>\n",
       "      <td>789</td>\n",
       "      <td>5</td>\n",
       "      <td>7</td>\n",
       "      <td>15</td>\n",
       "    </tr>\n",
       "    <tr>\n",
       "      <th>3</th>\n",
       "      <td>321</td>\n",
       "      <td>0</td>\n",
       "      <td>3</td>\n",
       "      <td>24</td>\n",
       "    </tr>\n",
       "  </tbody>\n",
       "</table>\n",
       "</div>"
      ],
      "text/plain": [
       "   kode_area  pabrik  gudang  toko\n",
       "0        123       4       2    64\n",
       "1        456       2       4    32\n",
       "2        789       5       7    15\n",
       "3        321       0       3    24"
      ]
     },
     "execution_count": 49,
     "metadata": {},
     "output_type": "execute_result"
    }
   ],
   "source": [
    "d = {\n",
    "'kode_area': [123, 456, 789, 321],\n",
    "'pabrik': [4, 2, 5, 0],\n",
    "'gudang': [2, 4, 7, 3],\n",
    "'toko': [64, 32, 15, 24]\n",
    "}\n",
    "\n",
    "df = pd.DataFrame(d)\n",
    "df"
   ]
  },
  {
   "cell_type": "markdown",
   "id": "3371be96-15fd-4b8a-b2cf-9fed93ec8c65",
   "metadata": {},
   "source": [
    "**Transformasi kolom menjadi baris**"
   ]
  },
  {
   "cell_type": "markdown",
   "id": "d09a2bc1-b68b-41e0-8a3d-67c2ac4849e5",
   "metadata": {},
   "source": [
    "df.melt() adalah fungsi yang digunakan untuk mentransformasikan kolom menjadi baris penggunaan method .melt() setidaknya membutuhkan 3 parameter parameter pertama adalah id_vars yang sering kali berasosiasi dengan primary key parameter kedua adalah var_name yang berasosiasi dengan nama kolom baru hasil transformasi kolom menjadi baris parameter ketiga adalah value name yang akan menampung jumlah dari hasil transformasi kolom menjadi baris\n",
    "\n",
    "- Fungsi melt() digunakan untuk mentrasformasikan kolom menjadi sebuah baris\n",
    "- Fungsi ini membutuhkan minimal 3 buah parameter\n",
    "- Parameter pertama yaitu id_vars. Digunakan untuk menetukan kunci utama/ primary key\n",
    "- Parameter kedua yaitu var_name. Digunakan untuk menentukan nama kolom baru\n",
    "- Parameter ketiga yaitu value_name. Digunakan untuk menampung jumlah dari kolom"
   ]
  },
  {
   "cell_type": "code",
   "execution_count": 55,
   "id": "ea44fd64-4eba-4421-b447-506138579c0c",
   "metadata": {},
   "outputs": [
    {
     "data": {
      "text/html": [
       "<div>\n",
       "<style scoped>\n",
       "    .dataframe tbody tr th:only-of-type {\n",
       "        vertical-align: middle;\n",
       "    }\n",
       "\n",
       "    .dataframe tbody tr th {\n",
       "        vertical-align: top;\n",
       "    }\n",
       "\n",
       "    .dataframe thead th {\n",
       "        text-align: right;\n",
       "    }\n",
       "</style>\n",
       "<table border=\"1\" class=\"dataframe\">\n",
       "  <thead>\n",
       "    <tr style=\"text-align: right;\">\n",
       "      <th></th>\n",
       "      <th>kode_area</th>\n",
       "      <th>jenis_bangunan</th>\n",
       "      <th>jumlah</th>\n",
       "    </tr>\n",
       "  </thead>\n",
       "  <tbody>\n",
       "    <tr>\n",
       "      <th>0</th>\n",
       "      <td>123</td>\n",
       "      <td>pabrik</td>\n",
       "      <td>4</td>\n",
       "    </tr>\n",
       "    <tr>\n",
       "      <th>1</th>\n",
       "      <td>456</td>\n",
       "      <td>pabrik</td>\n",
       "      <td>2</td>\n",
       "    </tr>\n",
       "    <tr>\n",
       "      <th>2</th>\n",
       "      <td>789</td>\n",
       "      <td>pabrik</td>\n",
       "      <td>5</td>\n",
       "    </tr>\n",
       "    <tr>\n",
       "      <th>3</th>\n",
       "      <td>321</td>\n",
       "      <td>pabrik</td>\n",
       "      <td>0</td>\n",
       "    </tr>\n",
       "    <tr>\n",
       "      <th>4</th>\n",
       "      <td>123</td>\n",
       "      <td>gudang</td>\n",
       "      <td>2</td>\n",
       "    </tr>\n",
       "    <tr>\n",
       "      <th>5</th>\n",
       "      <td>456</td>\n",
       "      <td>gudang</td>\n",
       "      <td>4</td>\n",
       "    </tr>\n",
       "    <tr>\n",
       "      <th>6</th>\n",
       "      <td>789</td>\n",
       "      <td>gudang</td>\n",
       "      <td>7</td>\n",
       "    </tr>\n",
       "    <tr>\n",
       "      <th>7</th>\n",
       "      <td>321</td>\n",
       "      <td>gudang</td>\n",
       "      <td>3</td>\n",
       "    </tr>\n",
       "    <tr>\n",
       "      <th>8</th>\n",
       "      <td>123</td>\n",
       "      <td>toko</td>\n",
       "      <td>64</td>\n",
       "    </tr>\n",
       "    <tr>\n",
       "      <th>9</th>\n",
       "      <td>456</td>\n",
       "      <td>toko</td>\n",
       "      <td>32</td>\n",
       "    </tr>\n",
       "    <tr>\n",
       "      <th>10</th>\n",
       "      <td>789</td>\n",
       "      <td>toko</td>\n",
       "      <td>15</td>\n",
       "    </tr>\n",
       "    <tr>\n",
       "      <th>11</th>\n",
       "      <td>321</td>\n",
       "      <td>toko</td>\n",
       "      <td>24</td>\n",
       "    </tr>\n",
       "  </tbody>\n",
       "</table>\n",
       "</div>"
      ],
      "text/plain": [
       "    kode_area jenis_bangunan  jumlah\n",
       "0         123         pabrik       4\n",
       "1         456         pabrik       2\n",
       "2         789         pabrik       5\n",
       "3         321         pabrik       0\n",
       "4         123         gudang       2\n",
       "5         456         gudang       4\n",
       "6         789         gudang       7\n",
       "7         321         gudang       3\n",
       "8         123           toko      64\n",
       "9         456           toko      32\n",
       "10        789           toko      15\n",
       "11        321           toko      24"
      ]
     },
     "execution_count": 55,
     "metadata": {},
     "output_type": "execute_result"
    }
   ],
   "source": [
    "#Melakukan melt pada DataFrame, mengonversi kolom menjadi baris\n",
    "df_melted = df.melt(id_vars='kode_area', \n",
    "                    var_name='jenis_bangunan', \n",
    "                    value_name='jumlah')\n",
    "df_melted"
   ]
  }
 ],
 "metadata": {
  "kernelspec": {
   "display_name": "Python 3 (ipykernel)",
   "language": "python",
   "name": "python3"
  },
  "language_info": {
   "codemirror_mode": {
    "name": "ipython",
    "version": 3
   },
   "file_extension": ".py",
   "mimetype": "text/x-python",
   "name": "python",
   "nbconvert_exporter": "python",
   "pygments_lexer": "ipython3",
   "version": "3.12.7"
  }
 },
 "nbformat": 4,
 "nbformat_minor": 5
}
