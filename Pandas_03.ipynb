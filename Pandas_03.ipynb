{
 "cells": [
  {
   "cell_type": "markdown",
   "id": "bc0a6069-d090-4c89-b043-0f33b35c6b09",
   "metadata": {},
   "source": [
    "# **#09 Membagi Data Frame menjadi dua secara acak**"
   ]
  },
  {
   "cell_type": "markdown",
   "id": "5464b47d-413b-4a73-9544-d1bbeb0986b8",
   "metadata": {},
   "source": [
    "**Import modules**"
   ]
  },
  {
   "cell_type": "code",
   "execution_count": 1,
   "id": "5f0d42e8-99c0-420c-9120-06d2e103556e",
   "metadata": {},
   "outputs": [
    {
     "name": "stdout",
     "output_type": "stream",
     "text": [
      "2.2.2\n",
      "1.26.4\n"
     ]
    }
   ],
   "source": [
    "import pandas as pd \n",
    "import numpy as np \n",
    "\n",
    "print(pd.__version__)\n",
    "print(np.__version__)"
   ]
  },
  {
   "cell_type": "markdown",
   "id": "34d4ce31-7c89-4bb4-9956-b16541c56ea0",
   "metadata": {},
   "source": [
    "**Persiapan Data Frame**"
   ]
  },
  {
   "cell_type": "code",
   "execution_count": 3,
   "id": "c449a95c-542b-4d5b-8772-cda0de72718d",
   "metadata": {},
   "outputs": [
    {
     "data": {
      "text/html": [
       "<div>\n",
       "<style scoped>\n",
       "    .dataframe tbody tr th:only-of-type {\n",
       "        vertical-align: middle;\n",
       "    }\n",
       "\n",
       "    .dataframe tbody tr th {\n",
       "        vertical-align: top;\n",
       "    }\n",
       "\n",
       "    .dataframe thead th {\n",
       "        text-align: right;\n",
       "    }\n",
       "</style>\n",
       "<table border=\"1\" class=\"dataframe\">\n",
       "  <thead>\n",
       "    <tr style=\"text-align: right;\">\n",
       "      <th></th>\n",
       "      <th>A</th>\n",
       "      <th>B</th>\n",
       "      <th>C</th>\n",
       "      <th>D</th>\n",
       "      <th>E</th>\n",
       "    </tr>\n",
       "  </thead>\n",
       "  <tbody>\n",
       "    <tr>\n",
       "      <th>0</th>\n",
       "      <td>12</td>\n",
       "      <td>15</td>\n",
       "      <td>15</td>\n",
       "      <td>19</td>\n",
       "      <td>1</td>\n",
       "    </tr>\n",
       "    <tr>\n",
       "      <th>1</th>\n",
       "      <td>1</td>\n",
       "      <td>9</td>\n",
       "      <td>2</td>\n",
       "      <td>6</td>\n",
       "      <td>13</td>\n",
       "    </tr>\n",
       "    <tr>\n",
       "      <th>2</th>\n",
       "      <td>8</td>\n",
       "      <td>17</td>\n",
       "      <td>3</td>\n",
       "      <td>5</td>\n",
       "      <td>15</td>\n",
       "    </tr>\n",
       "    <tr>\n",
       "      <th>3</th>\n",
       "      <td>6</td>\n",
       "      <td>18</td>\n",
       "      <td>3</td>\n",
       "      <td>16</td>\n",
       "      <td>10</td>\n",
       "    </tr>\n",
       "    <tr>\n",
       "      <th>4</th>\n",
       "      <td>9</td>\n",
       "      <td>14</td>\n",
       "      <td>4</td>\n",
       "      <td>8</td>\n",
       "      <td>18</td>\n",
       "    </tr>\n",
       "    <tr>\n",
       "      <th>5</th>\n",
       "      <td>17</td>\n",
       "      <td>8</td>\n",
       "      <td>14</td>\n",
       "      <td>6</td>\n",
       "      <td>10</td>\n",
       "    </tr>\n",
       "    <tr>\n",
       "      <th>6</th>\n",
       "      <td>10</td>\n",
       "      <td>8</td>\n",
       "      <td>6</td>\n",
       "      <td>19</td>\n",
       "      <td>18</td>\n",
       "    </tr>\n",
       "    <tr>\n",
       "      <th>7</th>\n",
       "      <td>17</td>\n",
       "      <td>2</td>\n",
       "      <td>1</td>\n",
       "      <td>3</td>\n",
       "      <td>6</td>\n",
       "    </tr>\n",
       "    <tr>\n",
       "      <th>8</th>\n",
       "      <td>14</td>\n",
       "      <td>15</td>\n",
       "      <td>15</td>\n",
       "      <td>9</td>\n",
       "      <td>11</td>\n",
       "    </tr>\n",
       "    <tr>\n",
       "      <th>9</th>\n",
       "      <td>15</td>\n",
       "      <td>13</td>\n",
       "      <td>12</td>\n",
       "      <td>15</td>\n",
       "      <td>12</td>\n",
       "    </tr>\n",
       "  </tbody>\n",
       "</table>\n",
       "</div>"
      ],
      "text/plain": [
       "    A   B   C   D   E\n",
       "0  12  15  15  19   1\n",
       "1   1   9   2   6  13\n",
       "2   8  17   3   5  15\n",
       "3   6  18   3  16  10\n",
       "4   9  14   4   8  18\n",
       "5  17   8  14   6  10\n",
       "6  10   8   6  19  18\n",
       "7  17   2   1   3   6\n",
       "8  14  15  15   9  11\n",
       "9  15  13  12  15  12"
      ]
     },
     "execution_count": 3,
     "metadata": {},
     "output_type": "execute_result"
    }
   ],
   "source": [
    "#Memiliki 10 baris \n",
    "n_rows = 10\n",
    "#Memiliki 5 kolom\n",
    "n_cols = 5\n",
    "\n",
    "#Setiap kolom akan diberi label 'A', 'B', 'C', 'D', dan 'E'\n",
    "cols = tuple('ABCDE')\n",
    "\n",
    "#Nilai untuk isi Data Frame adalah nilai acak berbasis bilangan integer (1-20)\n",
    "df = pd.DataFrame(np.random.randint(1, 20, size=(n_rows, n_cols)),\n",
    "                  columns=cols)\n",
    "\n",
    "df"
   ]
  },
  {
   "cell_type": "markdown",
   "id": "5494b2c9-4571-4202-b3ce-e146fe38ded9",
   "metadata": {},
   "source": [
    "**Membagi Data Frame menjadi dua secara acak berdasarkan proporsi tertentu**"
   ]
  },
  {
   "cell_type": "code",
   "execution_count": 5,
   "id": "bd1e3b96-2de3-47be-83a1-18d414ad35ae",
   "metadata": {},
   "outputs": [
    {
     "data": {
      "text/plain": [
       "(10, 5)"
      ]
     },
     "execution_count": 5,
     "metadata": {},
     "output_type": "execute_result"
    }
   ],
   "source": [
    "#Menggunakan atribut shape untuk menampilkan dimensi dari data frame\n",
    "df.shape"
   ]
  },
  {
   "cell_type": "markdown",
   "id": "b04ae778-5acf-44ee-847a-427c97219607",
   "metadata": {},
   "source": [
    "- df.shape berguna untuk memastikan bentuk atau shape dari data frame\n",
    "- Data frame pada kasus kali ini memiliki bentuk 10x5\n",
    "- Kasus kali ini kita ingin memasukkan 70% data frame 'df' ke dalam 'df_1'\n",
    "- Caranya dengan menggunakan sample() yang parameter fracnya kita isi dengan nilai proporsi\n",
    "- Hasil 'df_1' akan berupa 70% data frame df yang acak\n",
    "- Fungsi drop() berguna untuk membuang bagian tertentu yang diinginkan\n",
    "- Pada kasus kali ini kita menghilangkan bagian yang sudah ada di 'df_1'"
   ]
  },
  {
   "cell_type": "code",
   "execution_count": 13,
   "id": "dd45a3f6-f935-4068-b636-28ae80f7d0c8",
   "metadata": {},
   "outputs": [
    {
     "name": "stdout",
     "output_type": "stream",
     "text": [
      "df_1 shape: (df_1 shape)\n",
      "df_2 shape: (df_2shape)\n"
     ]
    }
   ],
   "source": [
    "#Menentukkan proporsi sebagai 0,7, yang akan digunakan untuk membagi data frame menjadi dua subset\n",
    "proporsi = 0.7\n",
    "\n",
    "#Menggunakan metode sample untuk mengambil sebagian data frame sesuai dengan proporsi \n",
    "df_1 = df.sample(frac=proporsi)\n",
    "\n",
    "#Menggunakan metode drop untuk menghapus baris baris yang telah di pilih dalam df_1 dari df\n",
    "df_2 = df.drop(df_1.index)\n",
    "\n",
    "#Menampilkan dimensi dari kedua subset data frame\n",
    "print(f'df_1 shape: (df_1 shape)')\n",
    "print(f'df_2 shape: (df_2shape)')"
   ]
  },
  {
   "cell_type": "code",
   "execution_count": 15,
   "id": "90797568-d156-49fb-92ac-4a90993a03c7",
   "metadata": {},
   "outputs": [
    {
     "data": {
      "text/html": [
       "<div>\n",
       "<style scoped>\n",
       "    .dataframe tbody tr th:only-of-type {\n",
       "        vertical-align: middle;\n",
       "    }\n",
       "\n",
       "    .dataframe tbody tr th {\n",
       "        vertical-align: top;\n",
       "    }\n",
       "\n",
       "    .dataframe thead th {\n",
       "        text-align: right;\n",
       "    }\n",
       "</style>\n",
       "<table border=\"1\" class=\"dataframe\">\n",
       "  <thead>\n",
       "    <tr style=\"text-align: right;\">\n",
       "      <th></th>\n",
       "      <th>A</th>\n",
       "      <th>B</th>\n",
       "      <th>C</th>\n",
       "      <th>D</th>\n",
       "      <th>E</th>\n",
       "    </tr>\n",
       "  </thead>\n",
       "  <tbody>\n",
       "    <tr>\n",
       "      <th>6</th>\n",
       "      <td>10</td>\n",
       "      <td>8</td>\n",
       "      <td>6</td>\n",
       "      <td>19</td>\n",
       "      <td>18</td>\n",
       "    </tr>\n",
       "    <tr>\n",
       "      <th>5</th>\n",
       "      <td>17</td>\n",
       "      <td>8</td>\n",
       "      <td>14</td>\n",
       "      <td>6</td>\n",
       "      <td>10</td>\n",
       "    </tr>\n",
       "    <tr>\n",
       "      <th>7</th>\n",
       "      <td>17</td>\n",
       "      <td>2</td>\n",
       "      <td>1</td>\n",
       "      <td>3</td>\n",
       "      <td>6</td>\n",
       "    </tr>\n",
       "    <tr>\n",
       "      <th>8</th>\n",
       "      <td>14</td>\n",
       "      <td>15</td>\n",
       "      <td>15</td>\n",
       "      <td>9</td>\n",
       "      <td>11</td>\n",
       "    </tr>\n",
       "    <tr>\n",
       "      <th>3</th>\n",
       "      <td>6</td>\n",
       "      <td>18</td>\n",
       "      <td>3</td>\n",
       "      <td>16</td>\n",
       "      <td>10</td>\n",
       "    </tr>\n",
       "    <tr>\n",
       "      <th>1</th>\n",
       "      <td>1</td>\n",
       "      <td>9</td>\n",
       "      <td>2</td>\n",
       "      <td>6</td>\n",
       "      <td>13</td>\n",
       "    </tr>\n",
       "    <tr>\n",
       "      <th>0</th>\n",
       "      <td>12</td>\n",
       "      <td>15</td>\n",
       "      <td>15</td>\n",
       "      <td>19</td>\n",
       "      <td>1</td>\n",
       "    </tr>\n",
       "  </tbody>\n",
       "</table>\n",
       "</div>"
      ],
      "text/plain": [
       "    A   B   C   D   E\n",
       "6  10   8   6  19  18\n",
       "5  17   8  14   6  10\n",
       "7  17   2   1   3   6\n",
       "8  14  15  15   9  11\n",
       "3   6  18   3  16  10\n",
       "1   1   9   2   6  13\n",
       "0  12  15  15  19   1"
      ]
     },
     "execution_count": 15,
     "metadata": {},
     "output_type": "execute_result"
    }
   ],
   "source": [
    "#Menampilkan subset pertama dari data frame, yang dihasilkan dengan metode sample\n",
    "df_1"
   ]
  },
  {
   "cell_type": "code",
   "execution_count": 31,
   "id": "09f53c22-52f9-486b-9a55-6f94e455ac53",
   "metadata": {},
   "outputs": [
    {
     "data": {
      "text/html": [
       "<div>\n",
       "<style scoped>\n",
       "    .dataframe tbody tr th:only-of-type {\n",
       "        vertical-align: middle;\n",
       "    }\n",
       "\n",
       "    .dataframe tbody tr th {\n",
       "        vertical-align: top;\n",
       "    }\n",
       "\n",
       "    .dataframe thead th {\n",
       "        text-align: right;\n",
       "    }\n",
       "</style>\n",
       "<table border=\"1\" class=\"dataframe\">\n",
       "  <thead>\n",
       "    <tr style=\"text-align: right;\">\n",
       "      <th></th>\n",
       "      <th>A</th>\n",
       "      <th>B</th>\n",
       "      <th>C</th>\n",
       "      <th>D</th>\n",
       "      <th>E</th>\n",
       "    </tr>\n",
       "  </thead>\n",
       "  <tbody>\n",
       "    <tr>\n",
       "      <th>2</th>\n",
       "      <td>8</td>\n",
       "      <td>17</td>\n",
       "      <td>3</td>\n",
       "      <td>5</td>\n",
       "      <td>15</td>\n",
       "    </tr>\n",
       "    <tr>\n",
       "      <th>4</th>\n",
       "      <td>9</td>\n",
       "      <td>14</td>\n",
       "      <td>4</td>\n",
       "      <td>8</td>\n",
       "      <td>18</td>\n",
       "    </tr>\n",
       "    <tr>\n",
       "      <th>9</th>\n",
       "      <td>15</td>\n",
       "      <td>13</td>\n",
       "      <td>12</td>\n",
       "      <td>15</td>\n",
       "      <td>12</td>\n",
       "    </tr>\n",
       "  </tbody>\n",
       "</table>\n",
       "</div>"
      ],
      "text/plain": [
       "    A   B   C   D   E\n",
       "2   8  17   3   5  15\n",
       "4   9  14   4   8  18\n",
       "9  15  13  12  15  12"
      ]
     },
     "execution_count": 31,
     "metadata": {},
     "output_type": "execute_result"
    }
   ],
   "source": [
    "#Menampilkan subset kedua dari data frame, yang dihasilkan dengan metode drop\n",
    "df_2"
   ]
  },
  {
   "cell_type": "markdown",
   "id": "e4fe7a71-b751-4a49-9af4-ad1440b676d1",
   "metadata": {},
   "source": [
    "# **#10 Mengganti nama (label) kolom pada Data Frame berdasarkan pola**"
   ]
  },
  {
   "cell_type": "markdown",
   "id": "2d083406-5807-4b1b-90fe-810ccf717ed1",
   "metadata": {},
   "source": [
    "**Import modules**"
   ]
  },
  {
   "cell_type": "code",
   "execution_count": 33,
   "id": "d8f905a7-dd59-4a14-afb0-cdde64d7e04b",
   "metadata": {},
   "outputs": [
    {
     "name": "stdout",
     "output_type": "stream",
     "text": [
      "2.2.2\n"
     ]
    }
   ],
   "source": [
    "import pandas as pd\n",
    "\n",
    "print(pd.__version__)"
   ]
  },
  {
   "cell_type": "markdown",
   "id": "5f3a3558-8d10-477b-9cd3-2aea547d6f5a",
   "metadata": {},
   "source": [
    "**Persiapan Data Frame**"
   ]
  },
  {
   "cell_type": "code",
   "execution_count": null,
   "id": "4a5dd74e-9167-4528-9c03-eb36452f29a4",
   "metadata": {},
   "outputs": [],
   "source": [
    "# Menggunakan metode read_csv dari pandas untuk membaca file CSV (Comma-Separated Values) \n",
    "# dan menyimpannya dalam data frame df. Kemudian, melakukan salinan mendalam (deep copy) dari df dan menyimpannya dalam df_backup.\n",
    "# Kolom-kolom dalam data frame diubah menjadi versi yang lebih bersih dan mudah dibaca.\n",
    "df = pd.read_csv(r'./data/titanicfull.csv')\n",
    "df.columns = ['Pclass', 'Survival status', 'full Name', 'Sex  ', '  Age', \n",
    "              'Sib SP', 'Parch', 'Ticket', 'Fare', 'Cabin', 'Embarked']\n",
    "df_backup = df.copy(deep=True)\n",
    "\n",
    "#Menampilkan 5 data awal dari data frame\n",
    "df.head()"
   ]
  },
  {
   "cell_type": "markdown",
   "id": "1fa1e17d-b85e-4a0b-98d5-15c0186aec44",
   "metadata": {},
   "source": [
    "**Menggunakan lowercase untuk nama kolom dan mengganti spasi dengan _**"
   ]
  },
  {
   "cell_type": "markdown",
   "id": "32c83e42-c6c7-4739-b62c-a473bbc2c2b0",
   "metadata": {},
   "source": [
    "- Fungsi str.replcae() berguna untuk menggantikan suatu string menjadi string lainnya\n",
    "- Fungsi str.lower() berguna untuk mengubah semua string menjadi lower case\n",
    "- Pada kasus ini kita mendapat sebuah masalah pada kolom sex dan age "
   ]
  },
  {
   "cell_type": "code",
   "execution_count": null,
   "id": "c2cfb7aa-e5fa-489b-820d-caaf8a15738b",
   "metadata": {},
   "outputs": [],
   "source": [
    "#Metode str.replace untuk mengganti spasi dengan garis bawah (_)\n",
    "#Metode str.lower untuk mengubah semua huruf dalam label kolom menjadi huruf kecil \n",
    "#Operasi ini dilakukan untuk memastikan label kolom menjadi lebih bersih dan seragam \n",
    "df.columns = df.columns.str.replace(' ', '_').str.lower()\n",
    "\n",
    "#Menampilkan 5 data awal dari data frame setelah penggantian dan penyesuaian label kolom \n",
    "df.head()"
   ]
  },
  {
   "cell_type": "markdown",
   "id": "56496238-7680-42bc-b1af-b18de704001a",
   "metadata": {},
   "source": [
    "**Memangkas kelebihan spasi pada nama kolom**"
   ]
  },
  {
   "cell_type": "code",
   "execution_count": null,
   "id": "ee476742-6cee-4525-b665-4e1fa203d1e4",
   "metadata": {},
   "outputs": [],
   "source": [
    "#Membuat salinan mendalam dari data frame df_backup dan menyimpannya dalam variable df\n",
    "df = df_backup.copy(deep=True)\n",
    "\n",
    "#Metode str.strip untuk menghapus spasi di awal dan akhir label kolom\n",
    "#Operasi ini dilakukan untuk memastikan label kolom menjadi lebih bersih dan seragam\n",
    "df.columns = df.columns.str.lower().str.strip().str.replace(' ', '_')\n",
    "\n",
    "#Menampilkan 5 data awal dari data frame setelah penggantian dan penyesuaian label kolom \n",
    "df.head()"
   ]
  },
  {
   "cell_type": "markdown",
   "id": "5eca9512-f420-4eb8-bbcb-fdfa30e8a41e",
   "metadata": {},
   "source": [
    "# **#11 Melakukan seleksi kolom dan baris pada Data Frame menggunakan loc**"
   ]
  },
  {
   "cell_type": "markdown",
   "id": "30702c11-b65b-4862-ad00-71d9c0ccede5",
   "metadata": {},
   "source": [
    "**Import modules**"
   ]
  },
  {
   "cell_type": "code",
   "execution_count": 3,
   "id": "07e3b04f-5777-4176-a6dc-12ab4bcb0fbf",
   "metadata": {},
   "outputs": [
    {
     "name": "stdout",
     "output_type": "stream",
     "text": [
      "2.2.2\n",
      "1.26.4\n"
     ]
    }
   ],
   "source": [
    "import pandas as pd \n",
    "import numpy as np \n",
    "\n",
    "print(pd.__version__)\n",
    "print(np.__version__)"
   ]
  },
  {
   "cell_type": "markdown",
   "id": "cb08a4be-f400-4ae5-8808-a8f98f22bd01",
   "metadata": {},
   "source": [
    "**Persiapan Data Frame**"
   ]
  },
  {
   "cell_type": "code",
   "execution_count": 5,
   "id": "47ed977b-f1c3-4480-a0d0-b0a2f873d383",
   "metadata": {},
   "outputs": [
    {
     "data": {
      "text/html": [
       "<div>\n",
       "<style scoped>\n",
       "    .dataframe tbody tr th:only-of-type {\n",
       "        vertical-align: middle;\n",
       "    }\n",
       "\n",
       "    .dataframe tbody tr th {\n",
       "        vertical-align: top;\n",
       "    }\n",
       "\n",
       "    .dataframe thead th {\n",
       "        text-align: right;\n",
       "    }\n",
       "</style>\n",
       "<table border=\"1\" class=\"dataframe\">\n",
       "  <thead>\n",
       "    <tr style=\"text-align: right;\">\n",
       "      <th></th>\n",
       "      <th>A</th>\n",
       "      <th>B</th>\n",
       "      <th>C</th>\n",
       "      <th>D</th>\n",
       "      <th>E</th>\n",
       "    </tr>\n",
       "  </thead>\n",
       "  <tbody>\n",
       "    <tr>\n",
       "      <th>0</th>\n",
       "      <td>15</td>\n",
       "      <td>5</td>\n",
       "      <td>9</td>\n",
       "      <td>16</td>\n",
       "      <td>2</td>\n",
       "    </tr>\n",
       "    <tr>\n",
       "      <th>1</th>\n",
       "      <td>17</td>\n",
       "      <td>15</td>\n",
       "      <td>8</td>\n",
       "      <td>6</td>\n",
       "      <td>2</td>\n",
       "    </tr>\n",
       "    <tr>\n",
       "      <th>2</th>\n",
       "      <td>16</td>\n",
       "      <td>19</td>\n",
       "      <td>19</td>\n",
       "      <td>2</td>\n",
       "      <td>12</td>\n",
       "    </tr>\n",
       "    <tr>\n",
       "      <th>3</th>\n",
       "      <td>2</td>\n",
       "      <td>7</td>\n",
       "      <td>7</td>\n",
       "      <td>1</td>\n",
       "      <td>7</td>\n",
       "    </tr>\n",
       "    <tr>\n",
       "      <th>4</th>\n",
       "      <td>14</td>\n",
       "      <td>17</td>\n",
       "      <td>5</td>\n",
       "      <td>13</td>\n",
       "      <td>16</td>\n",
       "    </tr>\n",
       "    <tr>\n",
       "      <th>5</th>\n",
       "      <td>6</td>\n",
       "      <td>5</td>\n",
       "      <td>2</td>\n",
       "      <td>9</td>\n",
       "      <td>14</td>\n",
       "    </tr>\n",
       "    <tr>\n",
       "      <th>6</th>\n",
       "      <td>4</td>\n",
       "      <td>13</td>\n",
       "      <td>11</td>\n",
       "      <td>6</td>\n",
       "      <td>10</td>\n",
       "    </tr>\n",
       "    <tr>\n",
       "      <th>7</th>\n",
       "      <td>9</td>\n",
       "      <td>12</td>\n",
       "      <td>8</td>\n",
       "      <td>13</td>\n",
       "      <td>15</td>\n",
       "    </tr>\n",
       "    <tr>\n",
       "      <th>8</th>\n",
       "      <td>10</td>\n",
       "      <td>4</td>\n",
       "      <td>14</td>\n",
       "      <td>11</td>\n",
       "      <td>5</td>\n",
       "    </tr>\n",
       "    <tr>\n",
       "      <th>9</th>\n",
       "      <td>11</td>\n",
       "      <td>13</td>\n",
       "      <td>9</td>\n",
       "      <td>18</td>\n",
       "      <td>8</td>\n",
       "    </tr>\n",
       "  </tbody>\n",
       "</table>\n",
       "</div>"
      ],
      "text/plain": [
       "    A   B   C   D   E\n",
       "0  15   5   9  16   2\n",
       "1  17  15   8   6   2\n",
       "2  16  19  19   2  12\n",
       "3   2   7   7   1   7\n",
       "4  14  17   5  13  16\n",
       "5   6   5   2   9  14\n",
       "6   4  13  11   6  10\n",
       "7   9  12   8  13  15\n",
       "8  10   4  14  11   5\n",
       "9  11  13   9  18   8"
      ]
     },
     "execution_count": 5,
     "metadata": {},
     "output_type": "execute_result"
    }
   ],
   "source": [
    "n_rows = 10 \n",
    "n_cols = 5\n",
    "cols = tuple('ABCDE')\n",
    "\n",
    "df = pd.DataFrame(np.random.randint(1, 20, size=(n_rows, n_cols)), \n",
    "                  columns=cols)\n",
    "\n",
    "df"
   ]
  },
  {
   "cell_type": "markdown",
   "id": "7bcc2fa6-b38d-471f-a329-393d3dd21bcc",
   "metadata": {},
   "source": [
    "**Seleksi kolom dan baris menggunakan loc**"
   ]
  },
  {
   "cell_type": "code",
   "execution_count": 9,
   "id": "402585a5-d5b5-4bc0-84c1-a85520e6b79d",
   "metadata": {},
   "outputs": [
    {
     "data": {
      "text/html": [
       "<div>\n",
       "<style scoped>\n",
       "    .dataframe tbody tr th:only-of-type {\n",
       "        vertical-align: middle;\n",
       "    }\n",
       "\n",
       "    .dataframe tbody tr th {\n",
       "        vertical-align: top;\n",
       "    }\n",
       "\n",
       "    .dataframe thead th {\n",
       "        text-align: right;\n",
       "    }\n",
       "</style>\n",
       "<table border=\"1\" class=\"dataframe\">\n",
       "  <thead>\n",
       "    <tr style=\"text-align: right;\">\n",
       "      <th></th>\n",
       "      <th>B</th>\n",
       "      <th>E</th>\n",
       "    </tr>\n",
       "  </thead>\n",
       "  <tbody>\n",
       "    <tr>\n",
       "      <th>0</th>\n",
       "      <td>5</td>\n",
       "      <td>2</td>\n",
       "    </tr>\n",
       "    <tr>\n",
       "      <th>3</th>\n",
       "      <td>7</td>\n",
       "      <td>7</td>\n",
       "    </tr>\n",
       "    <tr>\n",
       "      <th>4</th>\n",
       "      <td>17</td>\n",
       "      <td>16</td>\n",
       "    </tr>\n",
       "  </tbody>\n",
       "</table>\n",
       "</div>"
      ],
      "text/plain": [
       "    B   E\n",
       "0   5   2\n",
       "3   7   7\n",
       "4  17  16"
      ]
     },
     "execution_count": 9,
     "metadata": {},
     "output_type": "execute_result"
    }
   ],
   "source": [
    "#loc dibagi kedalam dua bagian besar yang dipisahkan dengan tanda koma \n",
    "#Bagian pertama dari loc untuk mengatur baris \n",
    "#Sedangkan bagian kedua dari loc untuk mengatur kolom\n",
    "df.loc[[0, 3, 4], ['B', 'E']]"
   ]
  },
  {
   "cell_type": "markdown",
   "id": "71f27f97-0fe4-4ec2-8cc7-b45cd8e66bf4",
   "metadata": {},
   "source": [
    "**Seleksi baris dengan kondisi**"
   ]
  },
  {
   "cell_type": "code",
   "execution_count": 11,
   "id": "7d6a0134-5f89-440d-8b60-6edf80b79763",
   "metadata": {},
   "outputs": [
    {
     "data": {
      "text/html": [
       "<div>\n",
       "<style scoped>\n",
       "    .dataframe tbody tr th:only-of-type {\n",
       "        vertical-align: middle;\n",
       "    }\n",
       "\n",
       "    .dataframe tbody tr th {\n",
       "        vertical-align: top;\n",
       "    }\n",
       "\n",
       "    .dataframe thead th {\n",
       "        text-align: right;\n",
       "    }\n",
       "</style>\n",
       "<table border=\"1\" class=\"dataframe\">\n",
       "  <thead>\n",
       "    <tr style=\"text-align: right;\">\n",
       "      <th></th>\n",
       "      <th>B</th>\n",
       "      <th>D</th>\n",
       "      <th>E</th>\n",
       "    </tr>\n",
       "  </thead>\n",
       "  <tbody>\n",
       "    <tr>\n",
       "      <th>1</th>\n",
       "      <td>15</td>\n",
       "      <td>6</td>\n",
       "      <td>2</td>\n",
       "    </tr>\n",
       "    <tr>\n",
       "      <th>2</th>\n",
       "      <td>19</td>\n",
       "      <td>2</td>\n",
       "      <td>12</td>\n",
       "    </tr>\n",
       "    <tr>\n",
       "      <th>4</th>\n",
       "      <td>17</td>\n",
       "      <td>13</td>\n",
       "      <td>16</td>\n",
       "    </tr>\n",
       "    <tr>\n",
       "      <th>6</th>\n",
       "      <td>13</td>\n",
       "      <td>6</td>\n",
       "      <td>10</td>\n",
       "    </tr>\n",
       "    <tr>\n",
       "      <th>7</th>\n",
       "      <td>12</td>\n",
       "      <td>13</td>\n",
       "      <td>15</td>\n",
       "    </tr>\n",
       "    <tr>\n",
       "      <th>9</th>\n",
       "      <td>13</td>\n",
       "      <td>18</td>\n",
       "      <td>8</td>\n",
       "    </tr>\n",
       "  </tbody>\n",
       "</table>\n",
       "</div>"
      ],
      "text/plain": [
       "    B   D   E\n",
       "1  15   6   2\n",
       "2  19   2  12\n",
       "4  17  13  16\n",
       "6  13   6  10\n",
       "7  12  13  15\n",
       "9  13  18   8"
      ]
     },
     "execution_count": 11,
     "metadata": {},
     "output_type": "execute_result"
    }
   ],
   "source": [
    "#Kasus kali ini kita ingin menampilkan baris yang kolom 'B' lebih besar dari 10 \n",
    "df.loc[df['B']>10, ['B', 'D', 'E']]"
   ]
  },
  {
   "cell_type": "markdown",
   "id": "1123dbf7-3702-41e3-8840-c50a1edb6622",
   "metadata": {},
   "source": [
    "**Slicing Data Frame dengan loc**"
   ]
  },
  {
   "cell_type": "code",
   "execution_count": 13,
   "id": "c86cc8ef-28fd-4ec6-b7f6-dfdb3495cad2",
   "metadata": {},
   "outputs": [
    {
     "data": {
      "text/html": [
       "<div>\n",
       "<style scoped>\n",
       "    .dataframe tbody tr th:only-of-type {\n",
       "        vertical-align: middle;\n",
       "    }\n",
       "\n",
       "    .dataframe tbody tr th {\n",
       "        vertical-align: top;\n",
       "    }\n",
       "\n",
       "    .dataframe thead th {\n",
       "        text-align: right;\n",
       "    }\n",
       "</style>\n",
       "<table border=\"1\" class=\"dataframe\">\n",
       "  <thead>\n",
       "    <tr style=\"text-align: right;\">\n",
       "      <th></th>\n",
       "      <th>B</th>\n",
       "      <th>C</th>\n",
       "      <th>D</th>\n",
       "    </tr>\n",
       "  </thead>\n",
       "  <tbody>\n",
       "    <tr>\n",
       "      <th>0</th>\n",
       "      <td>5</td>\n",
       "      <td>9</td>\n",
       "      <td>16</td>\n",
       "    </tr>\n",
       "    <tr>\n",
       "      <th>1</th>\n",
       "      <td>15</td>\n",
       "      <td>8</td>\n",
       "      <td>6</td>\n",
       "    </tr>\n",
       "    <tr>\n",
       "      <th>2</th>\n",
       "      <td>19</td>\n",
       "      <td>19</td>\n",
       "      <td>2</td>\n",
       "    </tr>\n",
       "    <tr>\n",
       "      <th>3</th>\n",
       "      <td>7</td>\n",
       "      <td>7</td>\n",
       "      <td>1</td>\n",
       "    </tr>\n",
       "    <tr>\n",
       "      <th>4</th>\n",
       "      <td>17</td>\n",
       "      <td>5</td>\n",
       "      <td>13</td>\n",
       "    </tr>\n",
       "  </tbody>\n",
       "</table>\n",
       "</div>"
      ],
      "text/plain": [
       "    B   C   D\n",
       "0   5   9  16\n",
       "1  15   8   6\n",
       "2  19  19   2\n",
       "3   7   7   1\n",
       "4  17   5  13"
      ]
     },
     "execution_count": 13,
     "metadata": {},
     "output_type": "execute_result"
    }
   ],
   "source": [
    "#Kasus kali ini kita mau menampilkan baris mulai dari baris 0 sampai 4 \n",
    "#Slicing pada loc sedikit berbeda, dimana end indeks pada loc memiliki sifat inclusive (Diikutsertakan)\n",
    "df.loc[0:4, 'B':'D']"
   ]
  },
  {
   "cell_type": "markdown",
   "id": "ba93531d-581b-4e25-baa8-d24b0d4fd1ae",
   "metadata": {},
   "source": [
    "# **#12 Membentuk kolom bertipe datetime dari sejumlah kolom lain pada Data Frame**"
   ]
  },
  {
   "cell_type": "markdown",
   "id": "0e46032f-0b9c-4a3f-be1f-0ce2b7924520",
   "metadata": {},
   "source": [
    "**Import Modules**"
   ]
  },
  {
   "cell_type": "code",
   "execution_count": 15,
   "id": "7e61bd33-c0ab-4a0a-ad25-3bec1504ea5a",
   "metadata": {},
   "outputs": [
    {
     "name": "stdout",
     "output_type": "stream",
     "text": [
      "2.2.2\n"
     ]
    }
   ],
   "source": [
    "import pandas as pd \n",
    "\n",
    "print(pd.__version__)"
   ]
  },
  {
   "cell_type": "markdown",
   "id": "df7273f6-c70f-44db-864a-624c8000fef9",
   "metadata": {},
   "source": [
    "**Persiapan Data Frame**"
   ]
  },
  {
   "cell_type": "code",
   "execution_count": 17,
   "id": "e284c735-69f0-42a6-b0f1-d52e169b0857",
   "metadata": {},
   "outputs": [
    {
     "data": {
      "text/html": [
       "<div>\n",
       "<style scoped>\n",
       "    .dataframe tbody tr th:only-of-type {\n",
       "        vertical-align: middle;\n",
       "    }\n",
       "\n",
       "    .dataframe tbody tr th {\n",
       "        vertical-align: top;\n",
       "    }\n",
       "\n",
       "    .dataframe thead th {\n",
       "        text-align: right;\n",
       "    }\n",
       "</style>\n",
       "<table border=\"1\" class=\"dataframe\">\n",
       "  <thead>\n",
       "    <tr style=\"text-align: right;\">\n",
       "      <th></th>\n",
       "      <th>day</th>\n",
       "      <th>month</th>\n",
       "      <th>year</th>\n",
       "    </tr>\n",
       "  </thead>\n",
       "  <tbody>\n",
       "    <tr>\n",
       "      <th>0</th>\n",
       "      <td>1</td>\n",
       "      <td>1</td>\n",
       "      <td>2000</td>\n",
       "    </tr>\n",
       "    <tr>\n",
       "      <th>1</th>\n",
       "      <td>2</td>\n",
       "      <td>2</td>\n",
       "      <td>2001</td>\n",
       "    </tr>\n",
       "    <tr>\n",
       "      <th>2</th>\n",
       "      <td>10</td>\n",
       "      <td>4</td>\n",
       "      <td>2010</td>\n",
       "    </tr>\n",
       "    <tr>\n",
       "      <th>3</th>\n",
       "      <td>25</td>\n",
       "      <td>5</td>\n",
       "      <td>2015</td>\n",
       "    </tr>\n",
       "    <tr>\n",
       "      <th>4</th>\n",
       "      <td>12</td>\n",
       "      <td>6</td>\n",
       "      <td>2020</td>\n",
       "    </tr>\n",
       "  </tbody>\n",
       "</table>\n",
       "</div>"
      ],
      "text/plain": [
       "   day  month  year\n",
       "0    1      1  2000\n",
       "1    2      2  2001\n",
       "2   10      4  2010\n",
       "3   25      5  2015\n",
       "4   12      6  2020"
      ]
     },
     "execution_count": 17,
     "metadata": {},
     "output_type": "execute_result"
    }
   ],
   "source": [
    "data = {'day':[1, 2, 10, 25, 12], \n",
    "        'month':[1, 2, 4, 5, 6],\n",
    "        'year':[2000, 2001, 2010, 2015, 2020]}\n",
    "\n",
    "df = pd.DataFrame(data)\n",
    "\n",
    "df"
   ]
  },
  {
   "cell_type": "markdown",
   "id": "468e743a-18be-4815-8b99-3ef6a4ffd7c5",
   "metadata": {},
   "source": [
    "**Membentuk kolom bertipe datetime**"
   ]
  },
  {
   "cell_type": "code",
   "execution_count": 19,
   "id": "00329640-b10c-44a2-978b-70fecdbeadad",
   "metadata": {},
   "outputs": [
    {
     "data": {
      "text/html": [
       "<div>\n",
       "<style scoped>\n",
       "    .dataframe tbody tr th:only-of-type {\n",
       "        vertical-align: middle;\n",
       "    }\n",
       "\n",
       "    .dataframe tbody tr th {\n",
       "        vertical-align: top;\n",
       "    }\n",
       "\n",
       "    .dataframe thead th {\n",
       "        text-align: right;\n",
       "    }\n",
       "</style>\n",
       "<table border=\"1\" class=\"dataframe\">\n",
       "  <thead>\n",
       "    <tr style=\"text-align: right;\">\n",
       "      <th></th>\n",
       "      <th>day</th>\n",
       "      <th>month</th>\n",
       "      <th>year</th>\n",
       "      <th>penanggalan</th>\n",
       "    </tr>\n",
       "  </thead>\n",
       "  <tbody>\n",
       "    <tr>\n",
       "      <th>0</th>\n",
       "      <td>1</td>\n",
       "      <td>1</td>\n",
       "      <td>2000</td>\n",
       "      <td>2000-01-01</td>\n",
       "    </tr>\n",
       "    <tr>\n",
       "      <th>1</th>\n",
       "      <td>2</td>\n",
       "      <td>2</td>\n",
       "      <td>2001</td>\n",
       "      <td>2001-02-02</td>\n",
       "    </tr>\n",
       "    <tr>\n",
       "      <th>2</th>\n",
       "      <td>10</td>\n",
       "      <td>4</td>\n",
       "      <td>2010</td>\n",
       "      <td>2010-04-10</td>\n",
       "    </tr>\n",
       "    <tr>\n",
       "      <th>3</th>\n",
       "      <td>25</td>\n",
       "      <td>5</td>\n",
       "      <td>2015</td>\n",
       "      <td>2015-05-25</td>\n",
       "    </tr>\n",
       "    <tr>\n",
       "      <th>4</th>\n",
       "      <td>12</td>\n",
       "      <td>6</td>\n",
       "      <td>2020</td>\n",
       "      <td>2020-06-12</td>\n",
       "    </tr>\n",
       "  </tbody>\n",
       "</table>\n",
       "</div>"
      ],
      "text/plain": [
       "   day  month  year penanggalan\n",
       "0    1      1  2000  2000-01-01\n",
       "1    2      2  2001  2001-02-02\n",
       "2   10      4  2010  2010-04-10\n",
       "3   25      5  2015  2015-05-25\n",
       "4   12      6  2020  2020-06-12"
      ]
     },
     "execution_count": 19,
     "metadata": {},
     "output_type": "execute_result"
    }
   ],
   "source": [
    "#Fungsi to_datetime() berguna untuk membtnuk data datetime\n",
    "#format penanggalan harus day, month, dan year\n",
    "df['penanggalan'] = pd.to_datetime(df[['day', 'month', 'year']])\n",
    "df"
   ]
  },
  {
   "cell_type": "code",
   "execution_count": 21,
   "id": "e3d53103-4944-49ee-b368-abaa44c02f08",
   "metadata": {},
   "outputs": [
    {
     "data": {
      "text/plain": [
       "day                     int64\n",
       "month                   int64\n",
       "year                    int64\n",
       "penanggalan    datetime64[ns]\n",
       "dtype: object"
      ]
     },
     "execution_count": 21,
     "metadata": {},
     "output_type": "execute_result"
    }
   ],
   "source": [
    "#Tipe data penanggalan sudah menjadi datetime\n",
    "df.dtypes"
   ]
  }
 ],
 "metadata": {
  "kernelspec": {
   "display_name": "Python 3 (ipykernel)",
   "language": "python",
   "name": "python3"
  },
  "language_info": {
   "codemirror_mode": {
    "name": "ipython",
    "version": 3
   },
   "file_extension": ".py",
   "mimetype": "text/x-python",
   "name": "python",
   "nbconvert_exporter": "python",
   "pygments_lexer": "ipython3",
   "version": "3.12.7"
  }
 },
 "nbformat": 4,
 "nbformat_minor": 5
}
