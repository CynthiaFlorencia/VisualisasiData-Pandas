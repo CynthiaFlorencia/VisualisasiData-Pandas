{
 "cells": [
  {
   "cell_type": "markdown",
   "id": "24e327a2-9d55-4307-a171-e3be976cdfd2",
   "metadata": {},
   "source": [
    "# **#13 Konversi nilai numerik ke dalam sejumlah kategori**"
   ]
  },
  {
   "cell_type": "markdown",
   "id": "b88b4742-5f9f-4750-bc45-06343b263936",
   "metadata": {},
   "source": [
    "**Import Modules**"
   ]
  },
  {
   "cell_type": "code",
   "execution_count": 3,
   "id": "b62d38cd-4490-4f2a-b73d-806c916f9814",
   "metadata": {},
   "outputs": [
    {
     "name": "stdout",
     "output_type": "stream",
     "text": [
      "2.2.2\n",
      "1.26.4\n"
     ]
    }
   ],
   "source": [
    "import pandas as pd\n",
    "import numpy as np\n",
    "\n",
    "print(pd.__version__)\n",
    "print(np.__version__)"
   ]
  },
  {
   "cell_type": "markdown",
   "id": "30ca4e91-7685-4efe-8542-908f3f30b45b",
   "metadata": {},
   "source": [
    "**Persiapan Data Frame**"
   ]
  },
  {
   "cell_type": "code",
   "execution_count": 5,
   "id": "6dffede2-6f3a-4865-9f10-ed5adf733691",
   "metadata": {},
   "outputs": [
    {
     "data": {
      "text/html": [
       "<div>\n",
       "<style scoped>\n",
       "    .dataframe tbody tr th:only-of-type {\n",
       "        vertical-align: middle;\n",
       "    }\n",
       "\n",
       "    .dataframe tbody tr th {\n",
       "        vertical-align: top;\n",
       "    }\n",
       "\n",
       "    .dataframe thead th {\n",
       "        text-align: right;\n",
       "    }\n",
       "</style>\n",
       "<table border=\"1\" class=\"dataframe\">\n",
       "  <thead>\n",
       "    <tr style=\"text-align: right;\">\n",
       "      <th></th>\n",
       "      <th>usia</th>\n",
       "    </tr>\n",
       "  </thead>\n",
       "  <tbody>\n",
       "    <tr>\n",
       "      <th>0</th>\n",
       "      <td>38</td>\n",
       "    </tr>\n",
       "    <tr>\n",
       "      <th>1</th>\n",
       "      <td>56</td>\n",
       "    </tr>\n",
       "    <tr>\n",
       "      <th>2</th>\n",
       "      <td>17</td>\n",
       "    </tr>\n",
       "    <tr>\n",
       "      <th>3</th>\n",
       "      <td>90</td>\n",
       "    </tr>\n",
       "    <tr>\n",
       "      <th>4</th>\n",
       "      <td>73</td>\n",
       "    </tr>\n",
       "    <tr>\n",
       "      <th>5</th>\n",
       "      <td>6</td>\n",
       "    </tr>\n",
       "    <tr>\n",
       "      <th>6</th>\n",
       "      <td>98</td>\n",
       "    </tr>\n",
       "    <tr>\n",
       "      <th>7</th>\n",
       "      <td>73</td>\n",
       "    </tr>\n",
       "    <tr>\n",
       "      <th>8</th>\n",
       "      <td>32</td>\n",
       "    </tr>\n",
       "    <tr>\n",
       "      <th>9</th>\n",
       "      <td>90</td>\n",
       "    </tr>\n",
       "  </tbody>\n",
       "</table>\n",
       "</div>"
      ],
      "text/plain": [
       "   usia\n",
       "0    38\n",
       "1    56\n",
       "2    17\n",
       "3    90\n",
       "4    73\n",
       "5     6\n",
       "6    98\n",
       "7    73\n",
       "8    32\n",
       "9    90"
      ]
     },
     "execution_count": 5,
     "metadata": {},
     "output_type": "execute_result"
    }
   ],
   "source": [
    "n_rows = 10\n",
    "n_cols = 1\n",
    "cols = ('usia',)\n",
    "\n",
    "df = pd.DataFrame(np.random.randint(1, 99, size=(n_rows, n_cols)), \n",
    "                  columns=cols)\n",
    "df"
   ]
  },
  {
   "cell_type": "markdown",
   "id": "3b513cd4-5e18-4fd1-b525-5efe29666fbe",
   "metadata": {},
   "source": [
    "**Pengelompokkan nilai numerik ke dalam beberapa kategori menggunakan cut()**"
   ]
  },
  {
   "cell_type": "markdown",
   "id": "68702fff-d736-4ac2-9e7a-c6516d6b95bd",
   "metadata": {},
   "source": [
    "- Membuat kolom baru bernama 'kelompok_usia'\n",
    "- Fungsi cut() akan memisahkan data dan mengelompokkannya sesuai dengan kelompoknya\n",
    "- df adalah kolom usia yang ingin kita cut\n",
    "- Rentang 0-18 akan memiliki label anak\n",
    "- Rentang 18 - 65 akan memiliki label dewasa\n",
    "- Rentang 65 - 99 akan memiliki label manula"
   ]
  },
  {
   "cell_type": "code",
   "execution_count": 7,
   "id": "fb136b97-35a5-4043-8346-154ac8f24410",
   "metadata": {},
   "outputs": [
    {
     "data": {
      "text/html": [
       "<div>\n",
       "<style scoped>\n",
       "    .dataframe tbody tr th:only-of-type {\n",
       "        vertical-align: middle;\n",
       "    }\n",
       "\n",
       "    .dataframe tbody tr th {\n",
       "        vertical-align: top;\n",
       "    }\n",
       "\n",
       "    .dataframe thead th {\n",
       "        text-align: right;\n",
       "    }\n",
       "</style>\n",
       "<table border=\"1\" class=\"dataframe\">\n",
       "  <thead>\n",
       "    <tr style=\"text-align: right;\">\n",
       "      <th></th>\n",
       "      <th>usia</th>\n",
       "      <th>Kelompok usia</th>\n",
       "    </tr>\n",
       "  </thead>\n",
       "  <tbody>\n",
       "    <tr>\n",
       "      <th>0</th>\n",
       "      <td>38</td>\n",
       "      <td>dewasa</td>\n",
       "    </tr>\n",
       "    <tr>\n",
       "      <th>1</th>\n",
       "      <td>56</td>\n",
       "      <td>dewasa</td>\n",
       "    </tr>\n",
       "    <tr>\n",
       "      <th>2</th>\n",
       "      <td>17</td>\n",
       "      <td>anak</td>\n",
       "    </tr>\n",
       "    <tr>\n",
       "      <th>3</th>\n",
       "      <td>90</td>\n",
       "      <td>manula</td>\n",
       "    </tr>\n",
       "    <tr>\n",
       "      <th>4</th>\n",
       "      <td>73</td>\n",
       "      <td>manula</td>\n",
       "    </tr>\n",
       "    <tr>\n",
       "      <th>5</th>\n",
       "      <td>6</td>\n",
       "      <td>anak</td>\n",
       "    </tr>\n",
       "    <tr>\n",
       "      <th>6</th>\n",
       "      <td>98</td>\n",
       "      <td>manula</td>\n",
       "    </tr>\n",
       "    <tr>\n",
       "      <th>7</th>\n",
       "      <td>73</td>\n",
       "      <td>manula</td>\n",
       "    </tr>\n",
       "    <tr>\n",
       "      <th>8</th>\n",
       "      <td>32</td>\n",
       "      <td>dewasa</td>\n",
       "    </tr>\n",
       "    <tr>\n",
       "      <th>9</th>\n",
       "      <td>90</td>\n",
       "      <td>manula</td>\n",
       "    </tr>\n",
       "  </tbody>\n",
       "</table>\n",
       "</div>"
      ],
      "text/plain": [
       "   usia Kelompok usia\n",
       "0    38        dewasa\n",
       "1    56        dewasa\n",
       "2    17          anak\n",
       "3    90        manula\n",
       "4    73        manula\n",
       "5     6          anak\n",
       "6    98        manula\n",
       "7    73        manula\n",
       "8    32        dewasa\n",
       "9    90        manula"
      ]
     },
     "execution_count": 7,
     "metadata": {},
     "output_type": "execute_result"
    }
   ],
   "source": [
    "#Menggunakan metode cut dari pandas untuk membuat kolom 'kelompok_usia' berdasarkan kolom\n",
    "#Parameter bins digunakan untuk menentukan batas kelompok usia dalam bentuk list \n",
    "#Parameter labels digunakan untuk memberikan label pada masing masing kelompok usia \n",
    "df['Kelompok usia'] = pd.cut(df['usia'],\n",
    "                             bins = [0,18, 65, 99],\n",
    "                             labels = ['anak', 'dewasa', 'manula'])\n",
    "\n",
    "#Menampilkan data frame dengan tambahan kolom 'kelompok usia'\n",
    "df"
   ]
  },
  {
   "cell_type": "markdown",
   "id": "a62b0018-298a-43f6-b07e-7a5f77f9500a",
   "metadata": {},
   "source": [
    "# **#14 Menggabungkan (merge) dua Data Frame**"
   ]
  },
  {
   "cell_type": "markdown",
   "id": "b5888b37-fc6a-47f6-a41c-92143d023084",
   "metadata": {},
   "source": [
    "**Import Modules**"
   ]
  },
  {
   "cell_type": "code",
   "execution_count": 9,
   "id": "c0194e41-06ec-4160-b96c-0516f7b5e1a1",
   "metadata": {},
   "outputs": [
    {
     "name": "stdout",
     "output_type": "stream",
     "text": [
      "2.2.2\n",
      "1.26.4\n"
     ]
    }
   ],
   "source": [
    "import pandas as pd\n",
    "import numpy as np\n",
    "\n",
    "print(pd.__version__)\n",
    "print(np.__version__)"
   ]
  },
  {
   "cell_type": "markdown",
   "id": "715f7cd2-e549-448a-9a8d-83584bd58fb4",
   "metadata": {},
   "source": [
    "**Persiapan Data Frame**"
   ]
  },
  {
   "cell_type": "code",
   "execution_count": 13,
   "id": "05225fc2-eab0-4aa0-93df-51494900c19f",
   "metadata": {},
   "outputs": [
    {
     "data": {
      "text/html": [
       "<div>\n",
       "<style scoped>\n",
       "    .dataframe tbody tr th:only-of-type {\n",
       "        vertical-align: middle;\n",
       "    }\n",
       "\n",
       "    .dataframe tbody tr th {\n",
       "        vertical-align: top;\n",
       "    }\n",
       "\n",
       "    .dataframe thead th {\n",
       "        text-align: right;\n",
       "    }\n",
       "</style>\n",
       "<table border=\"1\" class=\"dataframe\">\n",
       "  <thead>\n",
       "    <tr style=\"text-align: right;\">\n",
       "      <th></th>\n",
       "      <th>A</th>\n",
       "      <th>B</th>\n",
       "      <th>C</th>\n",
       "      <th>D</th>\n",
       "      <th>E</th>\n",
       "    </tr>\n",
       "  </thead>\n",
       "  <tbody>\n",
       "    <tr>\n",
       "      <th>0</th>\n",
       "      <td>2</td>\n",
       "      <td>2</td>\n",
       "      <td>7</td>\n",
       "      <td>10</td>\n",
       "      <td>8</td>\n",
       "    </tr>\n",
       "    <tr>\n",
       "      <th>1</th>\n",
       "      <td>18</td>\n",
       "      <td>14</td>\n",
       "      <td>1</td>\n",
       "      <td>15</td>\n",
       "      <td>13</td>\n",
       "    </tr>\n",
       "    <tr>\n",
       "      <th>2</th>\n",
       "      <td>16</td>\n",
       "      <td>9</td>\n",
       "      <td>8</td>\n",
       "      <td>11</td>\n",
       "      <td>7</td>\n",
       "    </tr>\n",
       "    <tr>\n",
       "      <th>3</th>\n",
       "      <td>8</td>\n",
       "      <td>8</td>\n",
       "      <td>12</td>\n",
       "      <td>16</td>\n",
       "      <td>12</td>\n",
       "    </tr>\n",
       "    <tr>\n",
       "      <th>4</th>\n",
       "      <td>9</td>\n",
       "      <td>8</td>\n",
       "      <td>1</td>\n",
       "      <td>12</td>\n",
       "      <td>2</td>\n",
       "    </tr>\n",
       "  </tbody>\n",
       "</table>\n",
       "</div>"
      ],
      "text/plain": [
       "    A   B   C   D   E\n",
       "0   2   2   7  10   8\n",
       "1  18  14   1  15  13\n",
       "2  16   9   8  11   7\n",
       "3   8   8  12  16  12\n",
       "4   9   8   1  12   2"
      ]
     },
     "execution_count": 13,
     "metadata": {},
     "output_type": "execute_result"
    }
   ],
   "source": [
    "n_rows = 5\n",
    "n_cols = 5\n",
    "cols = tuple('ABCDE')\n",
    "\n",
    "df = pd.DataFrame(np.random.randint(1, 20, size=(n_rows, n_cols)), \n",
    "                  columns=cols)\n",
    "df.head()"
   ]
  },
  {
   "cell_type": "code",
   "execution_count": 15,
   "id": "83d26f21-4df9-4db7-ba75-d37c898e4dff",
   "metadata": {},
   "outputs": [
    {
     "data": {
      "text/html": [
       "<div>\n",
       "<style scoped>\n",
       "    .dataframe tbody tr th:only-of-type {\n",
       "        vertical-align: middle;\n",
       "    }\n",
       "\n",
       "    .dataframe tbody tr th {\n",
       "        vertical-align: top;\n",
       "    }\n",
       "\n",
       "    .dataframe thead th {\n",
       "        text-align: right;\n",
       "    }\n",
       "</style>\n",
       "<table border=\"1\" class=\"dataframe\">\n",
       "  <thead>\n",
       "    <tr style=\"text-align: right;\">\n",
       "      <th></th>\n",
       "      <th>A</th>\n",
       "      <th>B</th>\n",
       "      <th>C</th>\n",
       "      <th>D</th>\n",
       "      <th>E</th>\n",
       "    </tr>\n",
       "  </thead>\n",
       "  <tbody>\n",
       "    <tr>\n",
       "      <th>0</th>\n",
       "      <td>2</td>\n",
       "      <td>2</td>\n",
       "      <td>7</td>\n",
       "      <td>10</td>\n",
       "      <td>8</td>\n",
       "    </tr>\n",
       "    <tr>\n",
       "      <th>2</th>\n",
       "      <td>16</td>\n",
       "      <td>9</td>\n",
       "      <td>8</td>\n",
       "      <td>11</td>\n",
       "      <td>7</td>\n",
       "    </tr>\n",
       "    <tr>\n",
       "      <th>3</th>\n",
       "      <td>8</td>\n",
       "      <td>8</td>\n",
       "      <td>12</td>\n",
       "      <td>16</td>\n",
       "      <td>12</td>\n",
       "    </tr>\n",
       "  </tbody>\n",
       "</table>\n",
       "</div>"
      ],
      "text/plain": [
       "    A  B   C   D   E\n",
       "0   2  2   7  10   8\n",
       "2  16  9   8  11   7\n",
       "3   8  8  12  16  12"
      ]
     },
     "execution_count": 15,
     "metadata": {},
     "output_type": "execute_result"
    }
   ],
   "source": [
    "#Membuat salinan mendalam dari data frame df dan menyimpannya dalam variable df1\n",
    "df1 = df.copy(deep=True)\n",
    "\n",
    "#Menggunakan metode drop untuk menghapus baris dengan indeks 1 dan 4 dari data frame df1\n",
    "df1 = df1.drop([1, 4])\n",
    "\n",
    "#Menampilkan data frame df1 setelah penghapusan baris dengan indeks 1 dan 4\n",
    "df1"
   ]
  },
  {
   "cell_type": "code",
   "execution_count": 17,
   "id": "58c2787d-088c-48cc-af8d-2f6711a7c212",
   "metadata": {},
   "outputs": [
    {
     "data": {
      "text/html": [
       "<div>\n",
       "<style scoped>\n",
       "    .dataframe tbody tr th:only-of-type {\n",
       "        vertical-align: middle;\n",
       "    }\n",
       "\n",
       "    .dataframe tbody tr th {\n",
       "        vertical-align: top;\n",
       "    }\n",
       "\n",
       "    .dataframe thead th {\n",
       "        text-align: right;\n",
       "    }\n",
       "</style>\n",
       "<table border=\"1\" class=\"dataframe\">\n",
       "  <thead>\n",
       "    <tr style=\"text-align: right;\">\n",
       "      <th></th>\n",
       "      <th>A</th>\n",
       "      <th>B</th>\n",
       "      <th>C</th>\n",
       "      <th>D</th>\n",
       "      <th>E</th>\n",
       "    </tr>\n",
       "  </thead>\n",
       "  <tbody>\n",
       "    <tr>\n",
       "      <th>1</th>\n",
       "      <td>18</td>\n",
       "      <td>14</td>\n",
       "      <td>1</td>\n",
       "      <td>15</td>\n",
       "      <td>13</td>\n",
       "    </tr>\n",
       "    <tr>\n",
       "      <th>2</th>\n",
       "      <td>16</td>\n",
       "      <td>9</td>\n",
       "      <td>8</td>\n",
       "      <td>11</td>\n",
       "      <td>7</td>\n",
       "    </tr>\n",
       "    <tr>\n",
       "      <th>4</th>\n",
       "      <td>9</td>\n",
       "      <td>8</td>\n",
       "      <td>1</td>\n",
       "      <td>12</td>\n",
       "      <td>2</td>\n",
       "    </tr>\n",
       "  </tbody>\n",
       "</table>\n",
       "</div>"
      ],
      "text/plain": [
       "    A   B  C   D   E\n",
       "1  18  14  1  15  13\n",
       "2  16   9  8  11   7\n",
       "4   9   8  1  12   2"
      ]
     },
     "execution_count": 17,
     "metadata": {},
     "output_type": "execute_result"
    }
   ],
   "source": [
    "#Membuat salinan mendalam dari data frame df dan menyimpannya dalam variabe df2\n",
    "df2 =  df.copy(deep=True)\n",
    "\n",
    "#Menggunakan metode drop untuk menghapus baris dengan indeks 0 dan 3 dari data frame df2\n",
    "df2 = df2.drop([0, 3])\n",
    "\n",
    "#Menampilkan data frame df2 setelah penghapusan baris dengan indeks 0 dan 3\n",
    "df2"
   ]
  },
  {
   "cell_type": "markdown",
   "id": "5a2a40a9-c8a4-4cda-af0c-26db03901c88",
   "metadata": {},
   "source": [
    "**Menggabungkan dua Data Frame**"
   ]
  },
  {
   "cell_type": "markdown",
   "id": "15b2247b-9945-4598-b952-47358408d810",
   "metadata": {},
   "source": [
    "- Kita akan menggunakan 2 cara dari fungsi merge() ini, yaitu secara inner dan outer\n",
    "- Parameter ke-3 dapat diatur dengan how menjadi inner, Karena itu akan menghasilkan irisan dari dataframe yang kita pilih\n",
    "- Namun, jika kita mengatur parameter tersebut menjadi outer, itu akan menghasilkan gabungan dari data frame yang kita pilih\n",
    "- Perlu diingat indeks pada gabungan data frame akan dibuat ulang"
   ]
  },
  {
   "cell_type": "code",
   "execution_count": 25,
   "id": "41898ce8-662f-4938-8ce1-d14f662e62e6",
   "metadata": {},
   "outputs": [
    {
     "data": {
      "text/html": [
       "<div>\n",
       "<style scoped>\n",
       "    .dataframe tbody tr th:only-of-type {\n",
       "        vertical-align: middle;\n",
       "    }\n",
       "\n",
       "    .dataframe tbody tr th {\n",
       "        vertical-align: top;\n",
       "    }\n",
       "\n",
       "    .dataframe thead th {\n",
       "        text-align: right;\n",
       "    }\n",
       "</style>\n",
       "<table border=\"1\" class=\"dataframe\">\n",
       "  <thead>\n",
       "    <tr style=\"text-align: right;\">\n",
       "      <th></th>\n",
       "      <th>A</th>\n",
       "      <th>B</th>\n",
       "      <th>C</th>\n",
       "      <th>D</th>\n",
       "      <th>E</th>\n",
       "    </tr>\n",
       "  </thead>\n",
       "  <tbody>\n",
       "    <tr>\n",
       "      <th>0</th>\n",
       "      <td>16</td>\n",
       "      <td>9</td>\n",
       "      <td>8</td>\n",
       "      <td>11</td>\n",
       "      <td>7</td>\n",
       "    </tr>\n",
       "  </tbody>\n",
       "</table>\n",
       "</div>"
      ],
      "text/plain": [
       "    A  B  C   D  E\n",
       "0  16  9  8  11  7"
      ]
     },
     "execution_count": 25,
     "metadata": {},
     "output_type": "execute_result"
    }
   ],
   "source": [
    "#Menggunakan metode merge dari pandas untuk menggabungkan dua data frame (df1 dan df2) berdasarkan indeks\n",
    "#Parameter how=inner digunakan untuk menentukkan jenis join yang dilakukan, dalam hal ini inner join\n",
    "df_inner = pd.merge(df1, df2, how='inner')\n",
    "\n",
    "#Menampilkan hasil penggabungan data frame df1 dan df2 dengan inner join\n",
    "df_inner"
   ]
  },
  {
   "cell_type": "code",
   "execution_count": 29,
   "id": "a9267f02-5a63-4687-b21f-1bbb06582bbd",
   "metadata": {},
   "outputs": [
    {
     "data": {
      "text/html": [
       "<div>\n",
       "<style scoped>\n",
       "    .dataframe tbody tr th:only-of-type {\n",
       "        vertical-align: middle;\n",
       "    }\n",
       "\n",
       "    .dataframe tbody tr th {\n",
       "        vertical-align: top;\n",
       "    }\n",
       "\n",
       "    .dataframe thead th {\n",
       "        text-align: right;\n",
       "    }\n",
       "</style>\n",
       "<table border=\"1\" class=\"dataframe\">\n",
       "  <thead>\n",
       "    <tr style=\"text-align: right;\">\n",
       "      <th></th>\n",
       "      <th>A</th>\n",
       "      <th>B</th>\n",
       "      <th>C</th>\n",
       "      <th>D</th>\n",
       "      <th>E</th>\n",
       "    </tr>\n",
       "  </thead>\n",
       "  <tbody>\n",
       "    <tr>\n",
       "      <th>0</th>\n",
       "      <td>2</td>\n",
       "      <td>2</td>\n",
       "      <td>7</td>\n",
       "      <td>10</td>\n",
       "      <td>8</td>\n",
       "    </tr>\n",
       "    <tr>\n",
       "      <th>1</th>\n",
       "      <td>8</td>\n",
       "      <td>8</td>\n",
       "      <td>12</td>\n",
       "      <td>16</td>\n",
       "      <td>12</td>\n",
       "    </tr>\n",
       "    <tr>\n",
       "      <th>2</th>\n",
       "      <td>9</td>\n",
       "      <td>8</td>\n",
       "      <td>1</td>\n",
       "      <td>12</td>\n",
       "      <td>2</td>\n",
       "    </tr>\n",
       "    <tr>\n",
       "      <th>3</th>\n",
       "      <td>16</td>\n",
       "      <td>9</td>\n",
       "      <td>8</td>\n",
       "      <td>11</td>\n",
       "      <td>7</td>\n",
       "    </tr>\n",
       "    <tr>\n",
       "      <th>4</th>\n",
       "      <td>18</td>\n",
       "      <td>14</td>\n",
       "      <td>1</td>\n",
       "      <td>15</td>\n",
       "      <td>13</td>\n",
       "    </tr>\n",
       "  </tbody>\n",
       "</table>\n",
       "</div>"
      ],
      "text/plain": [
       "    A   B   C   D   E\n",
       "0   2   2   7  10   8\n",
       "1   8   8  12  16  12\n",
       "2   9   8   1  12   2\n",
       "3  16   9   8  11   7\n",
       "4  18  14   1  15  13"
      ]
     },
     "execution_count": 29,
     "metadata": {},
     "output_type": "execute_result"
    }
   ],
   "source": [
    "#Menggunakan metode merge dari pandas untuk menggabungkan dua data frame (df1 dan df2) berdasarkan indeks\n",
    "#Parameter how=outer digunakan untuk menentukkan jenis join yang dilakukan, dalam hal ini outer join\n",
    "df_outer = pd.merge(df1, df2, how='outer')\n",
    "\n",
    "#Menampilkan hasil penggabungan data frame df1 dan df2 dengan outer join\n",
    "df_outer"
   ]
  },
  {
   "cell_type": "markdown",
   "id": "aa8461c3-59db-496b-8d84-05c161323cf1",
   "metadata": {},
   "source": [
    "# **#15 Memecah nilai String dari suatu kolom ke dalam beberapa kolom baru**"
   ]
  },
  {
   "cell_type": "markdown",
   "id": "544d2e53-d85f-4068-953d-eb6e3c5d6b6e",
   "metadata": {},
   "source": [
    "**Import Modules**"
   ]
  },
  {
   "cell_type": "code",
   "execution_count": 1,
   "id": "19a661b5-74d6-4a14-81a9-1bcdf8c03ec5",
   "metadata": {},
   "outputs": [
    {
     "name": "stdout",
     "output_type": "stream",
     "text": [
      "2.2.2\n"
     ]
    }
   ],
   "source": [
    "import pandas as pd\n",
    "\n",
    "print(pd.__version__)"
   ]
  },
  {
   "cell_type": "markdown",
   "id": "c97fc41a-d2aa-434e-bd24-00ed4df8486b",
   "metadata": {},
   "source": [
    "**Persiapan Data Frame**"
   ]
  },
  {
   "cell_type": "code",
   "execution_count": 3,
   "id": "4c599045-9df0-4065-ab0b-384b4a361930",
   "metadata": {},
   "outputs": [
    {
     "data": {
      "text/html": [
       "<div>\n",
       "<style scoped>\n",
       "    .dataframe tbody tr th:only-of-type {\n",
       "        vertical-align: middle;\n",
       "    }\n",
       "\n",
       "    .dataframe tbody tr th {\n",
       "        vertical-align: top;\n",
       "    }\n",
       "\n",
       "    .dataframe thead th {\n",
       "        text-align: right;\n",
       "    }\n",
       "</style>\n",
       "<table border=\"1\" class=\"dataframe\">\n",
       "  <thead>\n",
       "    <tr style=\"text-align: right;\">\n",
       "      <th></th>\n",
       "      <th>nama</th>\n",
       "      <th>tempat_kelahiran</th>\n",
       "    </tr>\n",
       "  </thead>\n",
       "  <tbody>\n",
       "    <tr>\n",
       "      <th>0</th>\n",
       "      <td>Didi Kempot</td>\n",
       "      <td>Surakarta, Jawa Tengah</td>\n",
       "    </tr>\n",
       "    <tr>\n",
       "      <th>1</th>\n",
       "      <td>Glenn Fredly</td>\n",
       "      <td>Jakarta, DKI Jakarta</td>\n",
       "    </tr>\n",
       "    <tr>\n",
       "      <th>2</th>\n",
       "      <td>Mbah Surip</td>\n",
       "      <td>Mojokerto, Jawa Timur</td>\n",
       "    </tr>\n",
       "  </tbody>\n",
       "</table>\n",
       "</div>"
      ],
      "text/plain": [
       "           nama        tempat_kelahiran\n",
       "0   Didi Kempot  Surakarta, Jawa Tengah\n",
       "1  Glenn Fredly    Jakarta, DKI Jakarta\n",
       "2    Mbah Surip   Mojokerto, Jawa Timur"
      ]
     },
     "execution_count": 3,
     "metadata": {},
     "output_type": "execute_result"
    }
   ],
   "source": [
    "#Membuat data frame menggunakan dictionary sebagai sumber datanya \n",
    "#Data frame memiliki dua kolom, 'nama' dan 'temapt_kelahiran'\n",
    "data = {'nama':['Didi Kempot', 'Glenn Fredly', 'Mbah Surip'],\n",
    "        'tempat_kelahiran':['Surakarta, Jawa Tengah', 'Jakarta, DKI Jakarta', 'Mojokerto, Jawa Timur']}\n",
    "\n",
    "df = pd.DataFrame(data)\n",
    "\n",
    "#Menampilkan data frame yang telah dibuat\n",
    "df"
   ]
  },
  {
   "cell_type": "markdown",
   "id": "5a79c5b9-e62a-48fe-a7c9-5dd2df1e1583",
   "metadata": {},
   "source": [
    "**Memecah nama depan dan nama belakang**"
   ]
  },
  {
   "cell_type": "markdown",
   "id": "685dc25a-c93b-42cf-9e4c-3d44119d2a23",
   "metadata": {},
   "source": [
    "- Buatlah 2 kolom baru\n",
    "- Memisahkan kolom nama dengan fungsi split()\n",
    "- Parameter kedua (tambahan) fungsi split() di beri nilai true agar output dapat berupa multiple columns"
   ]
  },
  {
   "cell_type": "code",
   "execution_count": 5,
   "id": "c499287b-929e-4b1b-bdb3-5302f974c899",
   "metadata": {},
   "outputs": [
    {
     "data": {
      "text/html": [
       "<div>\n",
       "<style scoped>\n",
       "    .dataframe tbody tr th:only-of-type {\n",
       "        vertical-align: middle;\n",
       "    }\n",
       "\n",
       "    .dataframe tbody tr th {\n",
       "        vertical-align: top;\n",
       "    }\n",
       "\n",
       "    .dataframe thead th {\n",
       "        text-align: right;\n",
       "    }\n",
       "</style>\n",
       "<table border=\"1\" class=\"dataframe\">\n",
       "  <thead>\n",
       "    <tr style=\"text-align: right;\">\n",
       "      <th></th>\n",
       "      <th>nama</th>\n",
       "      <th>tempat_kelahiran</th>\n",
       "      <th>nama_depan</th>\n",
       "      <th>nama_belakang</th>\n",
       "    </tr>\n",
       "  </thead>\n",
       "  <tbody>\n",
       "    <tr>\n",
       "      <th>0</th>\n",
       "      <td>Didi Kempot</td>\n",
       "      <td>Surakarta, Jawa Tengah</td>\n",
       "      <td>Didi</td>\n",
       "      <td>Kempot</td>\n",
       "    </tr>\n",
       "    <tr>\n",
       "      <th>1</th>\n",
       "      <td>Glenn Fredly</td>\n",
       "      <td>Jakarta, DKI Jakarta</td>\n",
       "      <td>Glenn</td>\n",
       "      <td>Fredly</td>\n",
       "    </tr>\n",
       "    <tr>\n",
       "      <th>2</th>\n",
       "      <td>Mbah Surip</td>\n",
       "      <td>Mojokerto, Jawa Timur</td>\n",
       "      <td>Mbah</td>\n",
       "      <td>Surip</td>\n",
       "    </tr>\n",
       "  </tbody>\n",
       "</table>\n",
       "</div>"
      ],
      "text/plain": [
       "           nama        tempat_kelahiran nama_depan nama_belakang\n",
       "0   Didi Kempot  Surakarta, Jawa Tengah       Didi        Kempot\n",
       "1  Glenn Fredly    Jakarta, DKI Jakarta      Glenn        Fredly\n",
       "2    Mbah Surip   Mojokerto, Jawa Timur       Mbah         Surip"
      ]
     },
     "execution_count": 5,
     "metadata": {},
     "output_type": "execute_result"
    }
   ],
   "source": [
    "#Menggunakan metode str.split untuk membagi kolom nama menjadi dua kolom\n",
    "df[['nama_depan', 'nama_belakang']] = df['nama'].str.split(' ', expand=True)\n",
    "\n",
    "#Menampilkan data frame dengan tambahan dua kolom baru, nama depan dan nama belakang\n",
    "df"
   ]
  },
  {
   "cell_type": "markdown",
   "id": "2ce12fef-58da-4efa-bf5b-29c7af23b892",
   "metadata": {},
   "source": [
    "**Memecah nama kota dan provinsi**"
   ]
  },
  {
   "cell_type": "markdown",
   "id": "06a1b964-f7d9-46ac-b7df-35b262a19fa5",
   "metadata": {},
   "source": [
    "- Buatlah 2 kolom baru\n",
    "- Memisahkan kolom nama dengan fungsi split()\n",
    "- Untuk memisahkan, pastikan gunakan koma yang diatur pada parameter pertama fungsi split\n",
    "- Parameter kedua (tambahan) fungsi split diberi nilai true agar output dapat berupa multiple columns"
   ]
  },
  {
   "cell_type": "code",
   "execution_count": 7,
   "id": "198217c0-cafb-42e1-be93-00f1adffeecc",
   "metadata": {},
   "outputs": [
    {
     "data": {
      "text/html": [
       "<div>\n",
       "<style scoped>\n",
       "    .dataframe tbody tr th:only-of-type {\n",
       "        vertical-align: middle;\n",
       "    }\n",
       "\n",
       "    .dataframe tbody tr th {\n",
       "        vertical-align: top;\n",
       "    }\n",
       "\n",
       "    .dataframe thead th {\n",
       "        text-align: right;\n",
       "    }\n",
       "</style>\n",
       "<table border=\"1\" class=\"dataframe\">\n",
       "  <thead>\n",
       "    <tr style=\"text-align: right;\">\n",
       "      <th></th>\n",
       "      <th>nama</th>\n",
       "      <th>tempat_kelahiran</th>\n",
       "      <th>nama_depan</th>\n",
       "      <th>nama_belakang</th>\n",
       "      <th>kota</th>\n",
       "      <th>provinsi</th>\n",
       "    </tr>\n",
       "  </thead>\n",
       "  <tbody>\n",
       "    <tr>\n",
       "      <th>0</th>\n",
       "      <td>Didi Kempot</td>\n",
       "      <td>Surakarta, Jawa Tengah</td>\n",
       "      <td>Didi</td>\n",
       "      <td>Kempot</td>\n",
       "      <td>Surakarta</td>\n",
       "      <td>Jawa Tengah</td>\n",
       "    </tr>\n",
       "    <tr>\n",
       "      <th>1</th>\n",
       "      <td>Glenn Fredly</td>\n",
       "      <td>Jakarta, DKI Jakarta</td>\n",
       "      <td>Glenn</td>\n",
       "      <td>Fredly</td>\n",
       "      <td>Jakarta</td>\n",
       "      <td>DKI Jakarta</td>\n",
       "    </tr>\n",
       "    <tr>\n",
       "      <th>2</th>\n",
       "      <td>Mbah Surip</td>\n",
       "      <td>Mojokerto, Jawa Timur</td>\n",
       "      <td>Mbah</td>\n",
       "      <td>Surip</td>\n",
       "      <td>Mojokerto</td>\n",
       "      <td>Jawa Timur</td>\n",
       "    </tr>\n",
       "  </tbody>\n",
       "</table>\n",
       "</div>"
      ],
      "text/plain": [
       "           nama        tempat_kelahiran nama_depan nama_belakang       kota  \\\n",
       "0   Didi Kempot  Surakarta, Jawa Tengah       Didi        Kempot  Surakarta   \n",
       "1  Glenn Fredly    Jakarta, DKI Jakarta      Glenn        Fredly    Jakarta   \n",
       "2    Mbah Surip   Mojokerto, Jawa Timur       Mbah         Surip  Mojokerto   \n",
       "\n",
       "       provinsi  \n",
       "0   Jawa Tengah  \n",
       "1   DKI Jakarta  \n",
       "2    Jawa Timur  "
      ]
     },
     "execution_count": 7,
     "metadata": {},
     "output_type": "execute_result"
    }
   ],
   "source": [
    "#Menggunakan metode str.split() untuk membagi kolom tempat kelahiran\n",
    "df[['kota', 'provinsi']] = df['tempat_kelahiran'].str.split(',', expand=True)\n",
    "\n",
    "#Menampilkan data frame dengan tambahan dua kolom baru, kota dan provinsi\n",
    "df"
   ]
  },
  {
   "cell_type": "markdown",
   "id": "e75cb169-9a2c-4624-91f4-a045efc2ca24",
   "metadata": {},
   "source": [
    "## **#16 Menata ulang Data Frame dengan multiple indexes menggunakan unstack()**"
   ]
  },
  {
   "cell_type": "markdown",
   "id": "eef5b139-a5bd-42ec-9db8-f44fdc083a41",
   "metadata": {},
   "source": [
    "**Import Modules**"
   ]
  },
  {
   "cell_type": "code",
   "execution_count": 9,
   "id": "74d5ff80-53f3-4544-9b9c-ba791eb87c13",
   "metadata": {},
   "outputs": [
    {
     "name": "stdout",
     "output_type": "stream",
     "text": [
      "2.2.2\n"
     ]
    }
   ],
   "source": [
    "import pandas as pd\n",
    "\n",
    "print(pd.__version__)"
   ]
  },
  {
   "cell_type": "markdown",
   "id": "90465dc7-0e64-4fed-ab27-389615af1fe2",
   "metadata": {},
   "source": [
    "**Persiapan Data Frame**"
   ]
  },
  {
   "cell_type": "code",
   "execution_count": null,
   "id": "32734b52-fc60-4f57-a405-3c0eb424fdb3",
   "metadata": {},
   "outputs": [],
   "source": [
    "#Menggunakan metode read_csv dari pandas untuk membaca file CSV dan menyimpannya dalam data frame df\n",
    "df = pd.read_csv('./data/titanicfull.csv')\n",
    "\n",
    "#Menampilkan lima data awal dari data frame\n",
    "df.head()"
   ]
  },
  {
   "cell_type": "markdown",
   "id": "b630bc58-b85d-4d6d-b486-91b400a5824c",
   "metadata": {},
   "source": [
    "**Data Frame dengan multiple indexes dari hasil grouping**"
   ]
  },
  {
   "cell_type": "markdown",
   "id": "9366bc42-8187-486b-b4c6-3c2c25f8a1d2",
   "metadata": {},
   "source": [
    "- Data dikelompokkan kedalam beberapa kelompok berdasarkan sex dan pclass\n",
    "- Data yang diamati sekarang adalah survived dimana 0 untuk tidak selamat dan 1 untuk selamat\n",
    "- Karena survived sudah dikelompokkan kedalam sex dan pclass, kita tidak dapat mengakses nilai tersebut kembali\n",
    "- Fungsi to_frame() hanya untuk mempercantik output tampilan "
   ]
  },
  {
   "cell_type": "code",
   "execution_count": null,
   "id": "f077b425-3344-4f41-84cf-5b2fb51aafa9",
   "metadata": {},
   "outputs": [],
   "source": [
    "#Menggunakan metode groupby dari pandas untuk mengelompokkan data berdasarkan 'sex' dan 'place'\n",
    "#Kemudian menggunakan kolom 'survived' sebagai target untuk menghitung rata rata \n",
    "#Metode unstack digunakan untuk mengubah hasil groupby menjadi bentuk yang lebih besar \n",
    "df .groupby(['sex', 'place'])['survived'].mean().to_frame()"
   ]
  }
 ],
 "metadata": {
  "kernelspec": {
   "display_name": "Python 3 (ipykernel)",
   "language": "python",
   "name": "python3"
  },
  "language_info": {
   "codemirror_mode": {
    "name": "ipython",
    "version": 3
   },
   "file_extension": ".py",
   "mimetype": "text/x-python",
   "name": "python",
   "nbconvert_exporter": "python",
   "pygments_lexer": "ipython3",
   "version": "3.12.7"
  }
 },
 "nbformat": 4,
 "nbformat_minor": 5
}
