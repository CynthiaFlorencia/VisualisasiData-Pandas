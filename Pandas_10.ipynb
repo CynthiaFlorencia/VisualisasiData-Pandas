{
 "cells": [
  {
   "cell_type": "markdown",
   "id": "b92e269d-507f-4cff-bfe0-e484dac8fea9",
   "metadata": {},
   "source": [
    "# **#37 Seleksi baris dengan banyak kriteria**"
   ]
  },
  {
   "cell_type": "markdown",
   "id": "4a3823f0-6457-4ec2-b882-4f10af7cedc7",
   "metadata": {},
   "source": [
    "**Import Modules**"
   ]
  },
  {
   "cell_type": "code",
   "execution_count": 3,
   "id": "b1d58755-3436-406d-abfa-63f541c87e0e",
   "metadata": {},
   "outputs": [
    {
     "name": "stdout",
     "output_type": "stream",
     "text": [
      "2.2.2\n"
     ]
    }
   ],
   "source": [
    "import pandas as pd\n",
    "\n",
    "print(pd.__version__)"
   ]
  },
  {
   "cell_type": "markdown",
   "id": "678c50a5-877f-4b8d-91b8-7c0babd18396",
   "metadata": {},
   "source": [
    "**Persiapan Data Frame**"
   ]
  },
  {
   "cell_type": "code",
   "execution_count": null,
   "id": "e40ef440-83fd-4892-8f91-c7feb15e62d1",
   "metadata": {},
   "outputs": [],
   "source": [
    "#Mengadopsi dataframe klasik, yaitu titanic dataset\n",
    "df = pd.read_csv('./data/titanicfull.csv')\n",
    "df.head()"
   ]
  },
  {
   "cell_type": "markdown",
   "id": "efee399b-2e1c-413f-9d01-d82c475fe959",
   "metadata": {},
   "source": [
    "**Seleksi baris dengan banyak kriteria**"
   ]
  },
  {
   "cell_type": "markdown",
   "id": "c363723f-b061-42b6-b744-86f8fdf864f5",
   "metadata": {},
   "source": [
    "- Untuk menyeleksi baris kita dapat menggunakan format +/- seperti ini df[] dan format untuk kriteria (df['sex']=='female')\n",
    "- Tanda kurung diluar harus ada. Jika tidak, akan muncul error\n",
    "- Pemisah untuk setiap kriteria menggunakan tanda dan ('&')\n",
    "- Untuk mempermudah pembacaan code kita bisa memisahkan setiap kriteria dalam satu baris\n",
    "- Kita juga bisa mememasukkan kriteria kedalam sebuah variabel terlebih dahulu.-"
   ]
  },
  {
   "cell_type": "code",
   "execution_count": null,
   "id": "904153d7-13e9-4085-87c3-d0a1b32e8ea9",
   "metadata": {},
   "outputs": [],
   "source": [
    "df[(df['sex']=='female') & (df['age']>=60) & (df['embarked']=='S') & (df['survived']==1)]"
   ]
  },
  {
   "cell_type": "code",
   "execution_count": null,
   "id": "23314bff-3bd2-40c9-a689-5168e740b2a8",
   "metadata": {},
   "outputs": [],
   "source": [
    "df[\n",
    "    (df['sex']=='female') & \n",
    "    (df['age']>=60) & \n",
    "    (df['embarked']=='S') & \n",
    "    (df['survived']==1)\n",
    "]"
   ]
  },
  {
   "cell_type": "code",
   "execution_count": null,
   "id": "6ed75b22-6a58-411c-a4f2-3966d2f9f2de",
   "metadata": {},
   "outputs": [],
   "source": [
    "kr1 = df['sex']=='female'\n",
    "kr2 = df['age']>=60\n",
    "kr3 = df['embarked']=='S'\n",
    "kr4 = df['survived']==1\n",
    "\n",
    "df[kr1 & kr2 & kr3 & kr4]"
   ]
  },
  {
   "cell_type": "markdown",
   "id": "ec189b69-aad2-46d7-a4fe-3d8832ed18af",
   "metadata": {},
   "source": [
    "# **#38 Parameter header dan skiprows pada read_csv**"
   ]
  },
  {
   "cell_type": "markdown",
   "id": "37aee7aa-fbeb-44b2-b227-409678be89dc",
   "metadata": {},
   "source": [
    "**Import Modules**"
   ]
  },
  {
   "cell_type": "code",
   "execution_count": 12,
   "id": "3ff25ba1-f901-4029-8c05-b77663083291",
   "metadata": {},
   "outputs": [
    {
     "name": "stdout",
     "output_type": "stream",
     "text": [
      "2.2.2\n"
     ]
    }
   ],
   "source": [
    "import pandas as pd\n",
    "\n",
    "print(pd.__version__)"
   ]
  },
  {
   "cell_type": "markdown",
   "id": "a26d7f06-3ef3-4617-a0ae-ebbcb9018d18",
   "metadata": {},
   "source": [
    "**Persiapan Data Frame**"
   ]
  },
  {
   "cell_type": "markdown",
   "id": "33bbd936-575d-4e3e-853d-d64610a2fac7",
   "metadata": {},
   "source": [
    "- Pertama kita akan membaca file iris error. Dataset ini memiliki letak header yang salah\n",
    "- Untuk menentukan posisi header kita bisa menambahkan parameter header\n",
    "- Parameter skiprow digunakan untuk melewati baris yang diinginkan"
   ]
  },
  {
   "cell_type": "code",
   "execution_count": null,
   "id": "d6b5c383-ea6f-402d-9465-43738fce7216",
   "metadata": {},
   "outputs": [],
   "source": [
    "df = pd.read_csv('./data/iris_error.csv')\n",
    "df.head(8)"
   ]
  },
  {
   "cell_type": "code",
   "execution_count": null,
   "id": "c5e842e7-eba7-4911-ac42-61b5f52981a8",
   "metadata": {},
   "outputs": [],
   "source": [
    "df = pd.read_csv('./data/iris_error.csv', header=2, skiprows=[5,6])\n",
    "df.head()"
   ]
  },
  {
   "cell_type": "markdown",
   "id": "dd351314-9bea-42d5-921b-28eb3f06de3c",
   "metadata": {},
   "source": [
    "# **#39 Mengacak urutan baris pada Data Frame**"
   ]
  },
  {
   "cell_type": "markdown",
   "id": "f645ac2b-e0d6-4d80-9dd8-994d28e85dc4",
   "metadata": {},
   "source": [
    "**Import Modules**"
   ]
  },
  {
   "cell_type": "code",
   "execution_count": 17,
   "id": "548c3a5a-620b-4217-9d30-8767c515c188",
   "metadata": {},
   "outputs": [
    {
     "name": "stdout",
     "output_type": "stream",
     "text": [
      "2.2.2\n",
      "1.26.4\n"
     ]
    }
   ],
   "source": [
    "import pandas as pd\n",
    "import numpy as np \n",
    "\n",
    "print(pd.__version__)\n",
    "print(np.__version__)"
   ]
  },
  {
   "cell_type": "markdown",
   "id": "e14eba38-dc25-4f4a-b16d-3328d5c99bd4",
   "metadata": {},
   "source": [
    "**Persiapan Data Frame**"
   ]
  },
  {
   "cell_type": "code",
   "execution_count": 20,
   "id": "a953d04c-53c4-42aa-878f-bc3342f26bbf",
   "metadata": {},
   "outputs": [
    {
     "data": {
      "text/html": [
       "<div>\n",
       "<style scoped>\n",
       "    .dataframe tbody tr th:only-of-type {\n",
       "        vertical-align: middle;\n",
       "    }\n",
       "\n",
       "    .dataframe tbody tr th {\n",
       "        vertical-align: top;\n",
       "    }\n",
       "\n",
       "    .dataframe thead th {\n",
       "        text-align: right;\n",
       "    }\n",
       "</style>\n",
       "<table border=\"1\" class=\"dataframe\">\n",
       "  <thead>\n",
       "    <tr style=\"text-align: right;\">\n",
       "      <th></th>\n",
       "      <th>A</th>\n",
       "      <th>B</th>\n",
       "      <th>C</th>\n",
       "      <th>D</th>\n",
       "      <th>E</th>\n",
       "    </tr>\n",
       "  </thead>\n",
       "  <tbody>\n",
       "    <tr>\n",
       "      <th>0</th>\n",
       "      <td>1</td>\n",
       "      <td>2</td>\n",
       "      <td>2</td>\n",
       "      <td>4</td>\n",
       "      <td>3</td>\n",
       "    </tr>\n",
       "    <tr>\n",
       "      <th>1</th>\n",
       "      <td>4</td>\n",
       "      <td>3</td>\n",
       "      <td>2</td>\n",
       "      <td>1</td>\n",
       "      <td>2</td>\n",
       "    </tr>\n",
       "    <tr>\n",
       "      <th>2</th>\n",
       "      <td>4</td>\n",
       "      <td>1</td>\n",
       "      <td>2</td>\n",
       "      <td>3</td>\n",
       "      <td>1</td>\n",
       "    </tr>\n",
       "    <tr>\n",
       "      <th>3</th>\n",
       "      <td>2</td>\n",
       "      <td>3</td>\n",
       "      <td>2</td>\n",
       "      <td>4</td>\n",
       "      <td>4</td>\n",
       "    </tr>\n",
       "    <tr>\n",
       "      <th>4</th>\n",
       "      <td>2</td>\n",
       "      <td>4</td>\n",
       "      <td>1</td>\n",
       "      <td>2</td>\n",
       "      <td>4</td>\n",
       "    </tr>\n",
       "    <tr>\n",
       "      <th>5</th>\n",
       "      <td>3</td>\n",
       "      <td>3</td>\n",
       "      <td>3</td>\n",
       "      <td>3</td>\n",
       "      <td>2</td>\n",
       "    </tr>\n",
       "  </tbody>\n",
       "</table>\n",
       "</div>"
      ],
      "text/plain": [
       "   A  B  C  D  E\n",
       "0  1  2  2  4  3\n",
       "1  4  3  2  1  2\n",
       "2  4  1  2  3  1\n",
       "3  2  3  2  4  4\n",
       "4  2  4  1  2  4\n",
       "5  3  3  3  3  2"
      ]
     },
     "execution_count": 20,
     "metadata": {},
     "output_type": "execute_result"
    }
   ],
   "source": [
    "#Membuat dataframe dengan 6 baris dan 5 kolom yang memiliki kolom A,B,C,D,E dan memiliki value random\n",
    "n_rows = 6\n",
    "n_cols = 5\n",
    "cols = tuple('ABCDE')\n",
    "\n",
    "df = pd.DataFrame(np.random.randint(1, 5, size=(n_rows, n_cols)), \n",
    "                  columns=cols)\n",
    "df"
   ]
  },
  {
   "cell_type": "markdown",
   "id": "688a437c-9770-4182-a53d-053c96e5f68c",
   "metadata": {},
   "source": [
    "**Mengacak urutan baris pada Data Frame**"
   ]
  },
  {
   "cell_type": "markdown",
   "id": "33fbd275-6c15-4a99-99d7-37123ab6d6a8",
   "metadata": {},
   "source": [
    "- Kita dapat memanfaatkan fungsi sample()\n",
    "- Parameter frac/ fraction yang bernilai 1 memiliki arti kita akan melakukan sampling secara penuh. Hany saja urutan pengambilannya akan diacak berdasarkan random-state number yang telah kita tentukan, agar nomor index tidak ikut teracak kita dapat menambahkan reset_index(drop=true)"
   ]
  },
  {
   "cell_type": "code",
   "execution_count": 23,
   "id": "23e1db2b-8970-4d94-992a-0e8df53508ee",
   "metadata": {},
   "outputs": [
    {
     "data": {
      "text/html": [
       "<div>\n",
       "<style scoped>\n",
       "    .dataframe tbody tr th:only-of-type {\n",
       "        vertical-align: middle;\n",
       "    }\n",
       "\n",
       "    .dataframe tbody tr th {\n",
       "        vertical-align: top;\n",
       "    }\n",
       "\n",
       "    .dataframe thead th {\n",
       "        text-align: right;\n",
       "    }\n",
       "</style>\n",
       "<table border=\"1\" class=\"dataframe\">\n",
       "  <thead>\n",
       "    <tr style=\"text-align: right;\">\n",
       "      <th></th>\n",
       "      <th>A</th>\n",
       "      <th>B</th>\n",
       "      <th>C</th>\n",
       "      <th>D</th>\n",
       "      <th>E</th>\n",
       "    </tr>\n",
       "  </thead>\n",
       "  <tbody>\n",
       "    <tr>\n",
       "      <th>2</th>\n",
       "      <td>4</td>\n",
       "      <td>1</td>\n",
       "      <td>2</td>\n",
       "      <td>3</td>\n",
       "      <td>1</td>\n",
       "    </tr>\n",
       "    <tr>\n",
       "      <th>1</th>\n",
       "      <td>4</td>\n",
       "      <td>3</td>\n",
       "      <td>2</td>\n",
       "      <td>1</td>\n",
       "      <td>2</td>\n",
       "    </tr>\n",
       "    <tr>\n",
       "      <th>4</th>\n",
       "      <td>2</td>\n",
       "      <td>4</td>\n",
       "      <td>1</td>\n",
       "      <td>2</td>\n",
       "      <td>4</td>\n",
       "    </tr>\n",
       "    <tr>\n",
       "      <th>0</th>\n",
       "      <td>1</td>\n",
       "      <td>2</td>\n",
       "      <td>2</td>\n",
       "      <td>4</td>\n",
       "      <td>3</td>\n",
       "    </tr>\n",
       "    <tr>\n",
       "      <th>3</th>\n",
       "      <td>2</td>\n",
       "      <td>3</td>\n",
       "      <td>2</td>\n",
       "      <td>4</td>\n",
       "      <td>4</td>\n",
       "    </tr>\n",
       "    <tr>\n",
       "      <th>5</th>\n",
       "      <td>3</td>\n",
       "      <td>3</td>\n",
       "      <td>3</td>\n",
       "      <td>3</td>\n",
       "      <td>2</td>\n",
       "    </tr>\n",
       "  </tbody>\n",
       "</table>\n",
       "</div>"
      ],
      "text/plain": [
       "   A  B  C  D  E\n",
       "2  4  1  2  3  1\n",
       "1  4  3  2  1  2\n",
       "4  2  4  1  2  4\n",
       "0  1  2  2  4  3\n",
       "3  2  3  2  4  4\n",
       "5  3  3  3  3  2"
      ]
     },
     "execution_count": 23,
     "metadata": {},
     "output_type": "execute_result"
    }
   ],
   "source": [
    "df.sample(frac=1.0, random_state=1)"
   ]
  },
  {
   "cell_type": "code",
   "execution_count": 25,
   "id": "94e20753-021e-4964-9aee-5cab3dd1944c",
   "metadata": {},
   "outputs": [
    {
     "data": {
      "text/html": [
       "<div>\n",
       "<style scoped>\n",
       "    .dataframe tbody tr th:only-of-type {\n",
       "        vertical-align: middle;\n",
       "    }\n",
       "\n",
       "    .dataframe tbody tr th {\n",
       "        vertical-align: top;\n",
       "    }\n",
       "\n",
       "    .dataframe thead th {\n",
       "        text-align: right;\n",
       "    }\n",
       "</style>\n",
       "<table border=\"1\" class=\"dataframe\">\n",
       "  <thead>\n",
       "    <tr style=\"text-align: right;\">\n",
       "      <th></th>\n",
       "      <th>A</th>\n",
       "      <th>B</th>\n",
       "      <th>C</th>\n",
       "      <th>D</th>\n",
       "      <th>E</th>\n",
       "    </tr>\n",
       "  </thead>\n",
       "  <tbody>\n",
       "    <tr>\n",
       "      <th>0</th>\n",
       "      <td>4</td>\n",
       "      <td>1</td>\n",
       "      <td>2</td>\n",
       "      <td>3</td>\n",
       "      <td>1</td>\n",
       "    </tr>\n",
       "    <tr>\n",
       "      <th>1</th>\n",
       "      <td>4</td>\n",
       "      <td>3</td>\n",
       "      <td>2</td>\n",
       "      <td>1</td>\n",
       "      <td>2</td>\n",
       "    </tr>\n",
       "    <tr>\n",
       "      <th>2</th>\n",
       "      <td>2</td>\n",
       "      <td>4</td>\n",
       "      <td>1</td>\n",
       "      <td>2</td>\n",
       "      <td>4</td>\n",
       "    </tr>\n",
       "    <tr>\n",
       "      <th>3</th>\n",
       "      <td>1</td>\n",
       "      <td>2</td>\n",
       "      <td>2</td>\n",
       "      <td>4</td>\n",
       "      <td>3</td>\n",
       "    </tr>\n",
       "    <tr>\n",
       "      <th>4</th>\n",
       "      <td>2</td>\n",
       "      <td>3</td>\n",
       "      <td>2</td>\n",
       "      <td>4</td>\n",
       "      <td>4</td>\n",
       "    </tr>\n",
       "    <tr>\n",
       "      <th>5</th>\n",
       "      <td>3</td>\n",
       "      <td>3</td>\n",
       "      <td>3</td>\n",
       "      <td>3</td>\n",
       "      <td>2</td>\n",
       "    </tr>\n",
       "  </tbody>\n",
       "</table>\n",
       "</div>"
      ],
      "text/plain": [
       "   A  B  C  D  E\n",
       "0  4  1  2  3  1\n",
       "1  4  3  2  1  2\n",
       "2  2  4  1  2  4\n",
       "3  1  2  2  4  3\n",
       "4  2  3  2  4  4\n",
       "5  3  3  3  3  2"
      ]
     },
     "execution_count": 25,
     "metadata": {},
     "output_type": "execute_result"
    }
   ],
   "source": [
    "df.sample(frac=1.0, random_state=1).reset_index(drop=True) "
   ]
  },
  {
   "cell_type": "markdown",
   "id": "b539dbdb-4d06-434d-9167-3edf5509df77",
   "metadata": {},
   "source": [
    "# **#40 Mengakses sekelompok data dengan get_group()**"
   ]
  },
  {
   "cell_type": "markdown",
   "id": "161fa253-a86b-4e02-9303-345ca1c1038e",
   "metadata": {},
   "source": [
    "**Import Modules**"
   ]
  },
  {
   "cell_type": "code",
   "execution_count": 29,
   "id": "a52b9fc3-a881-4209-807e-3cf2defaf69e",
   "metadata": {},
   "outputs": [
    {
     "name": "stdout",
     "output_type": "stream",
     "text": [
      "2.2.2\n"
     ]
    }
   ],
   "source": [
    "import pandas as pd\n",
    "\n",
    "print(pd.__version__)"
   ]
  },
  {
   "cell_type": "markdown",
   "id": "83696db5-c05f-4962-96e6-1e6bee9a7146",
   "metadata": {},
   "source": [
    "**Persiapan Data Frame**"
   ]
  },
  {
   "cell_type": "code",
   "execution_count": null,
   "id": "da49782e-39a8-4ad9-aa2b-4fe64459866e",
   "metadata": {},
   "outputs": [],
   "source": [
    "df = pd.read_csv('./data/titanicfull.csv')\n",
    "df.head()"
   ]
  },
  {
   "cell_type": "markdown",
   "id": "fdf1db87-8b37-40e5-88d4-17712ca42128",
   "metadata": {},
   "source": [
    "**Mengakses sekelompok data yang sudah terkelompok dengan get_group()**"
   ]
  },
  {
   "cell_type": "markdown",
   "id": "d0d48e21-d65c-4e79-ad96-5307c19c57b7",
   "metadata": {},
   "source": [
    "- Pertama kita akan mengolompokkan dataset ini berdasarkan sex dan dimasukkan kedalam variabel grouped_df\n",
    "- Untuk mengakses group yang memiliki nilai female kita bisa menggunakan fungsi get_group([value])"
   ]
  },
  {
   "cell_type": "code",
   "execution_count": null,
   "id": "8a090375-55ab-4fb4-b7d0-ff5d19af2418",
   "metadata": {},
   "outputs": [],
   "source": [
    "grouped_df = df.groupby('sex')"
   ]
  },
  {
   "cell_type": "code",
   "execution_count": null,
   "id": "0f3916ff-f971-4ab1-b465-4629fd2b1783",
   "metadata": {},
   "outputs": [],
   "source": [
    "grouped_df.get_group('female').head(10)"
   ]
  },
  {
   "cell_type": "code",
   "execution_count": null,
   "id": "7692e384-45a5-4485-b1ce-54c9130b7b01",
   "metadata": {},
   "outputs": [],
   "source": [
    "grouped_df = df.groupby('survived')"
   ]
  },
  {
   "cell_type": "code",
   "execution_count": null,
   "id": "48d2a92d-36ba-4877-a1a1-22dc1f27d06a",
   "metadata": {},
   "outputs": [],
   "source": [
    "grouped_df.get_group(1).head(10)"
   ]
  }
 ],
 "metadata": {
  "kernelspec": {
   "display_name": "Python 3 (ipykernel)",
   "language": "python",
   "name": "python3"
  },
  "language_info": {
   "codemirror_mode": {
    "name": "ipython",
    "version": 3
   },
   "file_extension": ".py",
   "mimetype": "text/x-python",
   "name": "python",
   "nbconvert_exporter": "python",
   "pygments_lexer": "ipython3",
   "version": "3.12.7"
  }
 },
 "nbformat": 4,
 "nbformat_minor": 5
}
