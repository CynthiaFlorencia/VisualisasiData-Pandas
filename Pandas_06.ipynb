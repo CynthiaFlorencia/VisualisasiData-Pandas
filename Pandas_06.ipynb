{
 "cells": [
  {
   "cell_type": "markdown",
   "id": "b0cff473-c9d9-4265-9d91-d2185a440dfa",
   "metadata": {},
   "source": [
    "# **#21 Agregasi pada Data Frame dengan agg()**"
   ]
  },
  {
   "cell_type": "markdown",
   "id": "9a94e7e3-0253-4e9a-aea5-cae869b11de8",
   "metadata": {},
   "source": [
    "**Import Modules**"
   ]
  },
  {
   "cell_type": "code",
   "execution_count": 3,
   "id": "ca1ed656-db59-4414-9948-4353fed9aee0",
   "metadata": {},
   "outputs": [
    {
     "name": "stdout",
     "output_type": "stream",
     "text": [
      "2.2.2\n"
     ]
    }
   ],
   "source": [
    "import pandas as pd\n",
    "\n",
    "print(pd.__version__)"
   ]
  },
  {
   "cell_type": "markdown",
   "id": "cb04e245-b0b4-4c6a-9e48-8a6980ebaf09",
   "metadata": {},
   "source": [
    "**Persiapan Data Frame**"
   ]
  },
  {
   "cell_type": "code",
   "execution_count": null,
   "id": "146bc270-d6fb-4867-ac66-a8931476dda9",
   "metadata": {},
   "outputs": [],
   "source": [
    "#Membaca data dari file CSV dengan menggunakan fungsi read_csv dari pandas\n",
    "#Data yang dibaca disimpan dalam dataframe 'df'\n",
    "df = pd.read_copy('./data/Iris.csv')\n",
    "df"
   ]
  },
  {
   "cell_type": "markdown",
   "id": "90973b8a-8935-4b37-afec-e9e4fc095af7",
   "metadata": {},
   "source": [
    "**Mengenal groupby() dan fungsi agregasi**"
   ]
  },
  {
   "cell_type": "markdown",
   "id": "df4ca037-4d43-47a0-bc4f-86632adf65af",
   "metadata": {},
   "source": [
    "- Fungsi agregasi adalah fungsi yang dikenakan pada sekelompok data dan erat kaitannya dengan pengelompokkan data groupby\n",
    "- Pada contoh dibawah ini dataframe dikelompokkan berdasarkan species dan kolom PetalLengthCm-nya di kenakan fungsi agregasi (count, mean, dan median)"
   ]
  },
  {
   "cell_type": "code",
   "execution_count": null,
   "id": "ef8c09a9-3889-4a75-be31-0b94a75cd318",
   "metadata": {},
   "outputs": [],
   "source": [
    "#Menggunakan groupby pada kolom 'Species' dan menghitung jumlah data pada kolom 'PetalLengthCm' untuk setiap kategori Species.\n",
    "df.groupby('Species')['PetalLengthCm'].count().to_frame()"
   ]
  },
  {
   "cell_type": "code",
   "execution_count": null,
   "id": "7a23530e-9531-4657-ad11-261aed9fea12",
   "metadata": {},
   "outputs": [],
   "source": [
    "#Menggunakan groupby pada kolom 'Species' dan menghitung rata-rata nilai pada kolom 'PetalLengthCm' untuk setiap kategori Species.\n",
    "df.groupby('Species')['PetalLengthCm'].mean().to_frame()"
   ]
  },
  {
   "cell_type": "code",
   "execution_count": null,
   "id": "9e1fd446-ad19-4f71-8390-7895655bb575",
   "metadata": {},
   "outputs": [],
   "source": [
    "#Menggunakan groupby pada kolom 'Species' dan menghitung nilai median pada kolom 'PetalLengthCm' untuk setiap kategori Species.\n",
    "df.groupby('Species')['PetalLengthCm'].median().to_frame()"
   ]
  },
  {
   "cell_type": "markdown",
   "id": "e0e59043-e42b-4f63-afb2-2df917974bfd",
   "metadata": {},
   "source": [
    "**Agregasi dengan agg()**"
   ]
  },
  {
   "cell_type": "code",
   "execution_count": null,
   "id": "79a6a032-538c-4730-901f-ff026bdb1f9b",
   "metadata": {},
   "outputs": [],
   "source": [
    "#Menggunakan groupby pada kolom 'Species' dan menerapkan beberapa fungsi agregasi seperti count, mean, dan median pada kolom 'PetalLengthCm'.\n",
    "df.groupby('Species')['PetalLengthCm'].agg(['count', 'mean', 'median'])"
   ]
  },
  {
   "cell_type": "markdown",
   "id": "eb6bdcc3-66fa-4441-a90d-fcddf97011b9",
   "metadata": {},
   "source": [
    "**Agregasi dengan describe()**"
   ]
  },
  {
   "cell_type": "code",
   "execution_count": null,
   "id": "ba4082fa-0c4a-4d5b-9b42-5e767ffae5db",
   "metadata": {},
   "outputs": [],
   "source": [
    "#Menggunakan groupby pada kolom 'Species' dan menerapkan fungsi describe pada kolom 'PetalLengthCm'.\n",
    "#Fungsi describe akan memberikan ringkasan statistik seperti count, mean, std, min, 25%, 50% (median), 75%, dan max.\n",
    "df.groupby('Species')['PetalLengthCm'].describe()"
   ]
  },
  {
   "cell_type": "markdown",
   "id": "f445d5ac-3fb0-4db2-91b2-5bb47999cc99",
   "metadata": {},
   "source": [
    "# **#22 Memantau penggunaan memory suatu dataframe**"
   ]
  },
  {
   "cell_type": "markdown",
   "id": "96338f7b-5099-4c7d-b2c0-0faa9ae998af",
   "metadata": {},
   "source": [
    "**Import Modules**"
   ]
  },
  {
   "cell_type": "code",
   "execution_count": 18,
   "id": "f798f9d0-6ea5-4464-ac76-3d235283ae03",
   "metadata": {},
   "outputs": [
    {
     "name": "stdout",
     "output_type": "stream",
     "text": [
      "2.2.2\n"
     ]
    }
   ],
   "source": [
    "import pandas as pd\n",
    "\n",
    "print(pd.__version__)"
   ]
  },
  {
   "cell_type": "markdown",
   "id": "eb966e2a-e8c1-44ac-bc53-248f1672d1a2",
   "metadata": {},
   "source": [
    "**Persiapan Data Frame**"
   ]
  },
  {
   "cell_type": "code",
   "execution_count": null,
   "id": "d22f0a87-255c-4f1e-8a48-e2ccaddd03e7",
   "metadata": {},
   "outputs": [],
   "source": [
    "#Membaca file CSV 'titanicfull.csv' dan menampilkan lima baris pertama dari DataFrame.\n",
    "df_titanic = pd.read_csv('./data/titanicfull.csv')\n",
    "df_titanic.head()"
   ]
  },
  {
   "cell_type": "code",
   "execution_count": null,
   "id": "8ab07f32-e254-472e-b4f9-a2111d968fd2",
   "metadata": {},
   "outputs": [],
   "source": [
    "df_iris = pd.read_csv('./data/Iris.csv')\n",
    "df_iris.head()"
   ]
  },
  {
   "cell_type": "markdown",
   "id": "3a02949e-aa51-497f-97ac-d3af0ed5e965",
   "metadata": {},
   "source": [
    "**Memantau penggunaan memory suatu Data Frame**"
   ]
  },
  {
   "cell_type": "code",
   "execution_count": null,
   "id": "e9d879d3-7b80-41d9-89ce-1019f0c7fdfd",
   "metadata": {},
   "outputs": [],
   "source": [
    "#Menampilkan informasi mengenai DataFrame 'df_titanic', termasuk penggunaan memori secara mendalam.\n",
    "df_titanic.info(memory_usage = 'deep')"
   ]
  },
  {
   "cell_type": "code",
   "execution_count": null,
   "id": "3b2d97d0-f01c-44c7-b4ad-8e46f068f3f0",
   "metadata": {},
   "outputs": [],
   "source": [
    "df_iris.info(memory_usage = 'deep')"
   ]
  },
  {
   "cell_type": "markdown",
   "id": "4a3f7d34-8239-4ca5-8fe4-cf0bfacebde2",
   "metadata": {},
   "source": [
    "**Memantau penggunaan memory untuk setiap kolom dari suatu data frame**"
   ]
  },
  {
   "cell_type": "markdown",
   "id": "fb2e7833-76cc-4e84-8984-5b58777324fc",
   "metadata": {},
   "source": [
    "- Jika kita ingin memantau penggunaan memory tidak di tingkat dataframe, tetapi di setiap kolomnya kita bisa menggunakan fungsi memory_usage() dengan nilai deep = True\n",
    "- Satuan dalam pemantauan ini adalah kb"
   ]
  },
  {
   "cell_type": "code",
   "execution_count": null,
   "id": "944095de-102f-4641-981f-0d520d9693d6",
   "metadata": {},
   "outputs": [],
   "source": [
    "df_titanic.memory_usage(deep=True)"
   ]
  },
  {
   "cell_type": "code",
   "execution_count": null,
   "id": "c196fdca-7a7b-4aa6-9d32-24d8239492d1",
   "metadata": {},
   "outputs": [],
   "source": [
    "df_iris.memory_usage(deep=True)"
   ]
  },
  {
   "cell_type": "markdown",
   "id": "e03a087b-7a0f-4726-873f-aa11faccc631",
   "metadata": {},
   "source": [
    "# **#23 Seleksi baris pada Data Frame dengan Query**"
   ]
  },
  {
   "cell_type": "markdown",
   "id": "55af55b2-5cf6-4e10-b576-ea81e2a7b760",
   "metadata": {},
   "source": [
    "**Import Modules**"
   ]
  },
  {
   "cell_type": "code",
   "execution_count": 27,
   "id": "ac544829-ee20-4e33-bea4-1ba179b16010",
   "metadata": {},
   "outputs": [
    {
     "name": "stdout",
     "output_type": "stream",
     "text": [
      "2.2.2\n"
     ]
    }
   ],
   "source": [
    "import pandas as pd\n",
    "\n",
    "print(pd.__version__)"
   ]
  },
  {
   "cell_type": "markdown",
   "id": "7c95b270-48d2-4ff7-beea-ba370f433afd",
   "metadata": {},
   "source": [
    "**Persiapan Data Frame**"
   ]
  },
  {
   "cell_type": "code",
   "execution_count": 30,
   "id": "cbf140a4-2075-42aa-a5cf-69d29204e5b2",
   "metadata": {},
   "outputs": [
    {
     "data": {
      "text/html": [
       "<div>\n",
       "<style scoped>\n",
       "    .dataframe tbody tr th:only-of-type {\n",
       "        vertical-align: middle;\n",
       "    }\n",
       "\n",
       "    .dataframe tbody tr th {\n",
       "        vertical-align: top;\n",
       "    }\n",
       "\n",
       "    .dataframe thead th {\n",
       "        text-align: right;\n",
       "    }\n",
       "</style>\n",
       "<table border=\"1\" class=\"dataframe\">\n",
       "  <thead>\n",
       "    <tr style=\"text-align: right;\">\n",
       "      <th></th>\n",
       "      <th>kolom_satu</th>\n",
       "      <th>kolom_dua</th>\n",
       "    </tr>\n",
       "  </thead>\n",
       "  <tbody>\n",
       "    <tr>\n",
       "      <th>0</th>\n",
       "      <td>1</td>\n",
       "      <td>10</td>\n",
       "    </tr>\n",
       "    <tr>\n",
       "      <th>1</th>\n",
       "      <td>2</td>\n",
       "      <td>20</td>\n",
       "    </tr>\n",
       "    <tr>\n",
       "      <th>2</th>\n",
       "      <td>3</td>\n",
       "      <td>30</td>\n",
       "    </tr>\n",
       "    <tr>\n",
       "      <th>3</th>\n",
       "      <td>4</td>\n",
       "      <td>40</td>\n",
       "    </tr>\n",
       "    <tr>\n",
       "      <th>4</th>\n",
       "      <td>5</td>\n",
       "      <td>50</td>\n",
       "    </tr>\n",
       "  </tbody>\n",
       "</table>\n",
       "</div>"
      ],
      "text/plain": [
       "   kolom_satu  kolom_dua\n",
       "0           1         10\n",
       "1           2         20\n",
       "2           3         30\n",
       "3           4         40\n",
       "4           5         50"
      ]
     },
     "execution_count": 30,
     "metadata": {},
     "output_type": "execute_result"
    }
   ],
   "source": [
    "d = {'kolom_satu':[1, 2, 3, 4, 5],\n",
    "     'kolom_dua':[10, 20, 30, 40, 50]}\n",
    "df = pd.DataFrame(d)\n",
    "df"
   ]
  },
  {
   "cell_type": "markdown",
   "id": "f4943b50-56c2-45c2-a16d-687334fec507",
   "metadata": {},
   "source": [
    "**Seleksi baris dengan query()**"
   ]
  },
  {
   "cell_type": "code",
   "execution_count": 33,
   "id": "4f0ff871-97aa-4eb0-826b-8331f54d782a",
   "metadata": {},
   "outputs": [
    {
     "data": {
      "text/html": [
       "<div>\n",
       "<style scoped>\n",
       "    .dataframe tbody tr th:only-of-type {\n",
       "        vertical-align: middle;\n",
       "    }\n",
       "\n",
       "    .dataframe tbody tr th {\n",
       "        vertical-align: top;\n",
       "    }\n",
       "\n",
       "    .dataframe thead th {\n",
       "        text-align: right;\n",
       "    }\n",
       "</style>\n",
       "<table border=\"1\" class=\"dataframe\">\n",
       "  <thead>\n",
       "    <tr style=\"text-align: right;\">\n",
       "      <th></th>\n",
       "      <th>kolom_satu</th>\n",
       "      <th>kolom_dua</th>\n",
       "    </tr>\n",
       "  </thead>\n",
       "  <tbody>\n",
       "    <tr>\n",
       "      <th>2</th>\n",
       "      <td>3</td>\n",
       "      <td>30</td>\n",
       "    </tr>\n",
       "    <tr>\n",
       "      <th>3</th>\n",
       "      <td>4</td>\n",
       "      <td>40</td>\n",
       "    </tr>\n",
       "    <tr>\n",
       "      <th>4</th>\n",
       "      <td>5</td>\n",
       "      <td>50</td>\n",
       "    </tr>\n",
       "  </tbody>\n",
       "</table>\n",
       "</div>"
      ],
      "text/plain": [
       "   kolom_satu  kolom_dua\n",
       "2           3         30\n",
       "3           4         40\n",
       "4           5         50"
      ]
     },
     "execution_count": 33,
     "metadata": {},
     "output_type": "execute_result"
    }
   ],
   "source": [
    "#Melakukan query pada DataFrame 'df' untuk memfilter baris-baris di mana nilai kolom 'kolom_satu' lebih besar dari 2.\n",
    "df.query('kolom_satu > 2')"
   ]
  },
  {
   "cell_type": "code",
   "execution_count": null,
   "id": "5c43d27d-64ca-4077-9943-1e99dae35118",
   "metadata": {},
   "outputs": [],
   "source": [
    "df.query('`kolom dua` > 30') #Lebih dari 30"
   ]
  },
  {
   "cell_type": "markdown",
   "id": "c0102da0-cf3b-4ef4-b9f0-a58c825e3adb",
   "metadata": {},
   "source": [
    "# **#24 UTC dan konversi zona waktu (time zone) pada Python Pandas**"
   ]
  },
  {
   "cell_type": "markdown",
   "id": "ab3ff2d6-1bde-4ef8-a51b-b73b898eb817",
   "metadata": {},
   "source": [
    "**Import Modules**"
   ]
  },
  {
   "cell_type": "code",
   "execution_count": 42,
   "id": "bcf89598-ad69-4723-92f9-f529d4cede00",
   "metadata": {},
   "outputs": [
    {
     "name": "stdout",
     "output_type": "stream",
     "text": [
      "2.2.2\n"
     ]
    }
   ],
   "source": [
    "import pandas as pd\n",
    "\n",
    "print(pd.__version__)"
   ]
  },
  {
   "cell_type": "markdown",
   "id": "7f674645-83ec-4185-800e-80c932b6a36e",
   "metadata": {},
   "source": [
    "**Persiapan Series**"
   ]
  },
  {
   "cell_type": "markdown",
   "id": "a7c8529d-7bc6-438f-bbb7-4d87cf69fc7e",
   "metadata": {},
   "source": [
    "- Kali ini kita menggunakan pandas series\n",
    "- Range disini memiliki step 3600 seconds = 1 jam\n",
    "- Angka disini mengacu pada unix epoch time\n",
    "- Series disini akan diubah menjadi datetime dengan menggunakan to_datetime()"
   ]
  },
  {
   "cell_type": "code",
   "execution_count": 45,
   "id": "efb19e4a-86b5-46a3-9b5f-bfa44e803539",
   "metadata": {},
   "outputs": [
    {
     "data": {
      "text/plain": [
       "0   2020-06-09 06:18:41\n",
       "1   2020-06-09 07:18:41\n",
       "2   2020-06-09 08:18:41\n",
       "3   2020-06-09 09:18:41\n",
       "4   2020-06-09 10:18:41\n",
       "dtype: datetime64[ns]"
      ]
     },
     "execution_count": 45,
     "metadata": {},
     "output_type": "execute_result"
    }
   ],
   "source": [
    "#Membuat Series dengan rentang waktu menggunakan nilai timestamp dalam satuan detik.\n",
    "s = pd.Series(range(1591683521, 1592201921, 3600))\n",
    "\n",
    "# Mengonversi nilai timestamp dalam Series menjadi objek datetime menggunakan unit waktu 's' (detik).\n",
    "s = pd.to_datetime(s, unit='s')\n",
    "\n",
    "# Menampilkan lima baris pertama dari Series yang sudah diubah.\n",
    "s.head()"
   ]
  },
  {
   "cell_type": "markdown",
   "id": "0cb652fa-a001-48d8-ace2-db6545b1a2a1",
   "metadata": {},
   "source": [
    "**Pengaturan zona waktu (time zone)**"
   ]
  },
  {
   "cell_type": "code",
   "execution_count": 48,
   "id": "96e37412-07e7-4536-b0fd-67337b86d48c",
   "metadata": {},
   "outputs": [
    {
     "data": {
      "text/plain": [
       "0   2020-06-09 06:18:41+00:00\n",
       "1   2020-06-09 07:18:41+00:00\n",
       "2   2020-06-09 08:18:41+00:00\n",
       "3   2020-06-09 09:18:41+00:00\n",
       "4   2020-06-09 10:18:41+00:00\n",
       "dtype: datetime64[ns, UTC]"
      ]
     },
     "execution_count": 48,
     "metadata": {},
     "output_type": "execute_result"
    }
   ],
   "source": [
    "s = s.dt.tz_localize('UTC')\n",
    "s.head()"
   ]
  },
  {
   "cell_type": "code",
   "execution_count": 50,
   "id": "5b5e42b3-f8aa-426f-b34e-ef2dd22df325",
   "metadata": {},
   "outputs": [
    {
     "data": {
      "text/plain": [
       "0   2020-06-09 13:18:41+07:00\n",
       "1   2020-06-09 14:18:41+07:00\n",
       "2   2020-06-09 15:18:41+07:00\n",
       "3   2020-06-09 16:18:41+07:00\n",
       "4   2020-06-09 17:18:41+07:00\n",
       "dtype: datetime64[ns, Asia/Jakarta]"
      ]
     },
     "execution_count": 50,
     "metadata": {},
     "output_type": "execute_result"
    }
   ],
   "source": [
    "s = s.dt.tz_convert('Asia/Jakarta')\n",
    "s.head()"
   ]
  },
  {
   "cell_type": "code",
   "execution_count": 52,
   "id": "2de67139-6a03-4a47-9264-51d7a5c3269a",
   "metadata": {},
   "outputs": [
    {
     "data": {
      "text/plain": [
       "0   2020-06-09 16:18:41+10:00\n",
       "1   2020-06-09 17:18:41+10:00\n",
       "2   2020-06-09 18:18:41+10:00\n",
       "3   2020-06-09 19:18:41+10:00\n",
       "4   2020-06-09 20:18:41+10:00\n",
       "dtype: datetime64[ns, Australia/Hobart]"
      ]
     },
     "execution_count": 52,
     "metadata": {},
     "output_type": "execute_result"
    }
   ],
   "source": [
    "s = s.dt.tz_convert('Australia/Hobart')\n",
    "s.head()"
   ]
  }
 ],
 "metadata": {
  "kernelspec": {
   "display_name": "Python 3 (ipykernel)",
   "language": "python",
   "name": "python3"
  },
  "language_info": {
   "codemirror_mode": {
    "name": "ipython",
    "version": 3
   },
   "file_extension": ".py",
   "mimetype": "text/x-python",
   "name": "python",
   "nbconvert_exporter": "python",
   "pygments_lexer": "ipython3",
   "version": "3.12.7"
  }
 },
 "nbformat": 4,
 "nbformat_minor": 5
}
